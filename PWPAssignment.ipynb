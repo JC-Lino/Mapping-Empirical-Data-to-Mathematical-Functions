{
 "cells": [
  {
   "cell_type": "markdown",
   "id": "acd99f7f",
   "metadata": {},
   "source": [
    "**DESCRIPTION OF THE TASK**"
   ]
  },
  {
   "cell_type": "markdown",
   "id": "e02981e7",
   "metadata": {},
   "source": [
    "**There are three files containing 4 training datasets, one test dataset, and 50 ideal functions. All data respectively consists of x-y-pairs of values.**\n",
    "\n",
    "**Your job (task 1) is to use the training data to choose the four ideal functions which are the best fit out of the fifty functions provided.Afterwards, (task 2) use the test data provided to determine for each and every x-y-pair of values whether or not they can be assigned to the four chosen ideal functions. if so, the program also needs to execute the mapping and save it together with the deviation at hand.**"
   ]
  },
  {
   "cell_type": "markdown",
   "id": "ab7a8ba8",
   "metadata": {},
   "source": [
    "The criterion for choosing the ideal functions for the training function is how they minimize the sum of all y-deviations squared (Least-Square) \n",
    "\n",
    "The criterion for mapping the individual test case to the four ideal functions is that the existing maximum deviation of the calculated regression does not exceed the largest deviation between training dataset and the ideal function chosen for it by more than factor sqrt(2)"
   ]
  },
  {
   "cell_type": "code",
   "execution_count": null,
   "id": "a4840c2d",
   "metadata": {},
   "outputs": [],
   "source": []
  },
  {
   "cell_type": "markdown",
   "id": "27e706ae",
   "metadata": {},
   "source": [
    "**SOLUTION**"
   ]
  },
  {
   "cell_type": "markdown",
   "id": "e5c4815e",
   "metadata": {},
   "source": [
    "**Libraries**"
   ]
  },
  {
   "cell_type": "code",
   "execution_count": 1,
   "id": "c8610a4b",
   "metadata": {},
   "outputs": [],
   "source": [
    "from pathlib import Path\n",
    "import sqlite3\n",
    "\n",
    "import pandas as pd\n",
    "import numpy as np\n",
    "import seaborn as sns\n",
    "import matplotlib.pyplot as plt\n",
    "import plotly.express as px\n",
    "import scipy.stats as stats\n",
    "import math\n",
    "from sklearn.metrics import r2_score\n",
    "from sklearn.linear_model import LinearRegression\n",
    "from sklearn.metrics import mean_absolute_error\n",
    "from sklearn.utils.validation import check_is_fitted"
   ]
  },
  {
   "cell_type": "markdown",
   "id": "1fd389da",
   "metadata": {},
   "source": [
    "**PART ONE**"
   ]
  },
  {
   "cell_type": "markdown",
   "id": "9b2bdd45",
   "metadata": {},
   "source": [
    "*This part of the program creates and saves the data into an SQLite database, and then accesses it for the analysis*"
   ]
  },
  {
   "cell_type": "code",
   "execution_count": 2,
   "id": "3b5a67f5",
   "metadata": {},
   "outputs": [],
   "source": [
    "## CREATING A SQLITE DATABASE\n",
    "Path('PWPA.db').touch()"
   ]
  },
  {
   "cell_type": "code",
   "execution_count": 3,
   "id": "0deee4d0",
   "metadata": {},
   "outputs": [],
   "source": [
    "## CREATE DATABASE CONNECTION AND CURSOR \n",
    "conn = sqlite3.connect('PWPA.db')\n",
    "c = conn.cursor()"
   ]
  },
  {
   "cell_type": "code",
   "execution_count": 4,
   "id": "6d73d1a0",
   "metadata": {},
   "outputs": [
    {
     "data": {
      "text/plain": [
       "<sqlite3.Cursor at 0x1be3ab7b5e0>"
      ]
     },
     "execution_count": 4,
     "metadata": {},
     "output_type": "execute_result"
    }
   ],
   "source": [
    "## create three SQLITE TABLES\n",
    "\n",
    "c.execute('''CREATE TABLE train (x, y1, y2, y3, y4)''')\n",
    "\n",
    "c.execute('''CREATE TABLE test (x, y)''')\n",
    "\n",
    "c.execute('''CREATE TABLE ideal (x, y1, y2, y3, y4, y5, y6, y7, y8, y9, y10, y11, y12, y13, y14, y15, y16, y17, y18, y19, y20,\n",
    "                                y21, y22, y23, y24, y25, y26, y27, y28, y29, y30, y31, y32, y33, y34, y35, y36, y37, y38, y39,\n",
    "                                y40, y41, y42, y43, y44, y45, y46, y47, y48, y49, y50)''')"
   ]
  },
  {
   "cell_type": "code",
   "execution_count": null,
   "id": "11c5bedb",
   "metadata": {},
   "outputs": [],
   "source": []
  },
  {
   "cell_type": "code",
   "execution_count": 5,
   "id": "e5b0fa78",
   "metadata": {},
   "outputs": [
    {
     "data": {
      "text/plain": [
       "400"
      ]
     },
     "execution_count": 5,
     "metadata": {},
     "output_type": "execute_result"
    }
   ],
   "source": [
    "## LOAD THE CSV FILES INTO THE SQLITE DATABASE\n",
    "\n",
    "# load the data into Pandas DataFrames\n",
    "user_1 = pd.read_csv(\"train.csv\")\n",
    "user_2 = pd.read_csv(\"test.csv\")\n",
    "user_3 = pd.read_csv(\"ideal.csv\")\n",
    "\n",
    "# write the data into sqlite tables\n",
    "user_1.to_sql('train', conn, if_exists='append', index = False)\n",
    "user_2.to_sql('test', conn, if_exists='append', index = False)\n",
    "user_3.to_sql('ideal', conn, if_exists='append', index = False)"
   ]
  },
  {
   "cell_type": "code",
   "execution_count": 6,
   "id": "4ffa9c4e",
   "metadata": {},
   "outputs": [],
   "source": [
    "# LOADING THE DATA FROM THE DATABASE INTO THREE DATAFRAME\n",
    "\n",
    "con = sqlite3.connect(\"PWPA.db\")\n",
    "df_train = pd.read_sql_query(\"SELECT * from train\", conn)\n",
    "df_test = pd.read_sql_query(\"SELECT * from test\", conn)\n",
    "df_ideal = pd.read_sql_query(\"SELECT * from ideal\", conn)\n",
    "\n",
    "con.close()"
   ]
  },
  {
   "cell_type": "code",
   "execution_count": null,
   "id": "90c1c554",
   "metadata": {},
   "outputs": [],
   "source": []
  },
  {
   "cell_type": "code",
   "execution_count": null,
   "id": "9355fda3",
   "metadata": {},
   "outputs": [],
   "source": []
  },
  {
   "cell_type": "markdown",
   "id": "b01ea8cd",
   "metadata": {},
   "source": [
    "**TASK 1**"
   ]
  },
  {
   "cell_type": "markdown",
   "id": "b4188bbc",
   "metadata": {},
   "source": [
    "**PART TWO**"
   ]
  },
  {
   "cell_type": "markdown",
   "id": "f0567a0f",
   "metadata": {},
   "source": [
    "*This part of the program focus on studying the first training equation. It determines the type of equation of y1 training and the corresponding ideal equation*"
   ]
  },
  {
   "cell_type": "code",
   "execution_count": 7,
   "id": "eec7a083",
   "metadata": {},
   "outputs": [
    {
     "data": {
      "text/html": [
       "<div>\n",
       "<style scoped>\n",
       "    .dataframe tbody tr th:only-of-type {\n",
       "        vertical-align: middle;\n",
       "    }\n",
       "\n",
       "    .dataframe tbody tr th {\n",
       "        vertical-align: top;\n",
       "    }\n",
       "\n",
       "    .dataframe thead th {\n",
       "        text-align: right;\n",
       "    }\n",
       "</style>\n",
       "<table border=\"1\" class=\"dataframe\">\n",
       "  <thead>\n",
       "    <tr style=\"text-align: right;\">\n",
       "      <th></th>\n",
       "      <th>x</th>\n",
       "      <th>y1</th>\n",
       "      <th>y2</th>\n",
       "      <th>y3</th>\n",
       "      <th>y4</th>\n",
       "    </tr>\n",
       "  </thead>\n",
       "  <tbody>\n",
       "    <tr>\n",
       "      <th>0</th>\n",
       "      <td>-20.0</td>\n",
       "      <td>19.682550</td>\n",
       "      <td>-8.643847</td>\n",
       "      <td>-0.792252</td>\n",
       "      <td>-8795.289</td>\n",
       "    </tr>\n",
       "    <tr>\n",
       "      <th>1</th>\n",
       "      <td>-19.9</td>\n",
       "      <td>20.401932</td>\n",
       "      <td>-8.724133</td>\n",
       "      <td>-1.132539</td>\n",
       "      <td>-8667.858</td>\n",
       "    </tr>\n",
       "    <tr>\n",
       "      <th>2</th>\n",
       "      <td>-19.8</td>\n",
       "      <td>19.618414</td>\n",
       "      <td>-8.848171</td>\n",
       "      <td>-0.610908</td>\n",
       "      <td>-8541.768</td>\n",
       "    </tr>\n",
       "    <tr>\n",
       "      <th>3</th>\n",
       "      <td>-19.7</td>\n",
       "      <td>19.495897</td>\n",
       "      <td>-9.648293</td>\n",
       "      <td>-1.236778</td>\n",
       "      <td>-8416.403</td>\n",
       "    </tr>\n",
       "    <tr>\n",
       "      <th>4</th>\n",
       "      <td>-19.6</td>\n",
       "      <td>20.155570</td>\n",
       "      <td>-9.133513</td>\n",
       "      <td>-0.416563</td>\n",
       "      <td>-8292.688</td>\n",
       "    </tr>\n",
       "  </tbody>\n",
       "</table>\n",
       "</div>"
      ],
      "text/plain": [
       "      x         y1        y2        y3        y4\n",
       "0 -20.0  19.682550 -8.643847 -0.792252 -8795.289\n",
       "1 -19.9  20.401932 -8.724133 -1.132539 -8667.858\n",
       "2 -19.8  19.618414 -8.848171 -0.610908 -8541.768\n",
       "3 -19.7  19.495897 -9.648293 -1.236778 -8416.403\n",
       "4 -19.6  20.155570 -9.133513 -0.416563 -8292.688"
      ]
     },
     "execution_count": 7,
     "metadata": {},
     "output_type": "execute_result"
    }
   ],
   "source": [
    "# Explore\n",
    "df_train.head()"
   ]
  },
  {
   "cell_type": "code",
   "execution_count": 8,
   "id": "aa0a61e8",
   "metadata": {},
   "outputs": [
    {
     "name": "stdout",
     "output_type": "stream",
     "text": [
      "<class 'pandas.core.frame.DataFrame'>\n",
      "RangeIndex: 400 entries, 0 to 399\n",
      "Data columns (total 5 columns):\n",
      " #   Column  Non-Null Count  Dtype  \n",
      "---  ------  --------------  -----  \n",
      " 0   x       400 non-null    float64\n",
      " 1   y1      400 non-null    float64\n",
      " 2   y2      400 non-null    float64\n",
      " 3   y3      400 non-null    float64\n",
      " 4   y4      400 non-null    float64\n",
      "dtypes: float64(5)\n",
      "memory usage: 15.8 KB\n"
     ]
    }
   ],
   "source": [
    "df_train.info()"
   ]
  },
  {
   "cell_type": "code",
   "execution_count": 9,
   "id": "0f7f7497",
   "metadata": {},
   "outputs": [
    {
     "data": {
      "image/png": "[encoded data removed]",
      "text/plain": [
       "<Figure size 432x288 with 1 Axes>"
      ]
     },
     "metadata": {
      "needs_background": "light"
     },
     "output_type": "display_data"
    }
   ],
   "source": [
    "#CHECK THE RELATIONSHIP BETWEEN X and each of train Functions\n",
    "plt.scatter(x=df_train[\"x\"], y=df_train[\"y1\"])\n",
    "plt.xlabel(\"Independent Variable\")\n",
    "plt.ylabel(\"Test Function 1\")\n",
    "plt.title(\"Figure 1: Relantionship between x and y1\");"
   ]
  },
  {
   "cell_type": "code",
   "execution_count": 10,
   "id": "174f56e3",
   "metadata": {},
   "outputs": [],
   "source": [
    "#BUILDING THE MODEL\n",
    "#Subset to values of y for when x is greater than zero so that we can build a model that can predict the right side of the graph\n",
    "mask_half = df_train[\"x\"] > 0\n",
    "df_train_1 = df_train[mask_half]"
   ]
  },
  {
   "cell_type": "code",
   "execution_count": 11,
   "id": "8bfd4a56",
   "metadata": {},
   "outputs": [],
   "source": [
    "#Define Features\n",
    "\n",
    "features = [\"x\"]\n",
    "X_train_1 = df_train_1[features]\n",
    "\n",
    "#Define target\n",
    "target = \"y1\"\n",
    "y_train_1 = df_train_1[target]"
   ]
  },
  {
   "cell_type": "code",
   "execution_count": 12,
   "id": "82109ea7",
   "metadata": {},
   "outputs": [],
   "source": [
    "#BUILDING A MODEL\n",
    "# Defining a baseline\n",
    "y_mean_1 = y_train_1.mean()\n",
    "y_pred_baseline_1 = [y_mean_1] * len(y_train_1)"
   ]
  },
  {
   "cell_type": "code",
   "execution_count": 13,
   "id": "eecb67fa",
   "metadata": {},
   "outputs": [
    {
     "name": "stdout",
     "output_type": "stream",
     "text": [
      "Mean value of y: 10.39\n",
      "Baseline MAE: 4.76\n"
     ]
    }
   ],
   "source": [
    "# BUILDIG A MODEL\n",
    "# Define a MAE Baseline\n",
    "\n",
    "mae_baseline_1 = mean_absolute_error(y_train_1, y_pred_baseline_1)\n",
    "y_mean_1 = y_train_1.mean()\n",
    "print(\"Mean value of y:\", round(y_mean_1, 2))\n",
    "print(\"Baseline MAE:\", round(mae_baseline_1, 2))"
   ]
  },
  {
   "cell_type": "code",
   "execution_count": 14,
   "id": "130bc11d",
   "metadata": {},
   "outputs": [],
   "source": [
    "# BUILDING A MODEL\n",
    "# Building the model\n",
    "model_1 = LinearRegression()"
   ]
  },
  {
   "cell_type": "code",
   "execution_count": 15,
   "id": "e72cb6ec",
   "metadata": {},
   "outputs": [
    {
     "data": {
      "text/plain": [
       "LinearRegression()"
      ]
     },
     "execution_count": 15,
     "metadata": {},
     "output_type": "execute_result"
    }
   ],
   "source": [
    "# FITTING THE MODEL\n",
    "\n",
    "model_1.fit(X_train_1, y_train_1)"
   ]
  },
  {
   "cell_type": "code",
   "execution_count": 16,
   "id": "a2c50cff",
   "metadata": {},
   "outputs": [],
   "source": [
    "# Using the model's predict method, create a list of predictions for the observations in the feature matrix X_train_1. \n",
    "# Name this array y_pred_training\n",
    "y_pred_training = model_1.predict(X_train_1)\n",
    "# y_pred_training[:10]"
   ]
  },
  {
   "cell_type": "code",
   "execution_count": 17,
   "id": "f073be1f",
   "metadata": {},
   "outputs": [
    {
     "name": "stdout",
     "output_type": "stream",
     "text": [
      "Training MAE: 0.29\n"
     ]
    }
   ],
   "source": [
    "#Calculate the training mean absolute error for the predictions in `y_pred_training` as compared to the true targets in `y_train`\n",
    "mae_training = mean_absolute_error(y_train_1, y_pred_training)\n",
    "print(\"Training MAE:\", round(mae_training, 2))"
   ]
  },
  {
   "cell_type": "code",
   "execution_count": 18,
   "id": "8ec850b1",
   "metadata": {},
   "outputs": [],
   "source": [
    "# COMMUNICATE RESULTS\n",
    "#Intercept and Coefficient of the developed regression\n",
    "intercept = model_1.intercept_\n",
    "coefficient = model_1.coef_\n",
    "\n",
    "#REGRESSION FOR THE FIRST TRAINING FUNCTION/DATASET\n",
    "y1_pred=coefficient*abs(df_train[\"x\"])+intercept\n",
    "#print('the first equation (y1) is defined by y1 =|',coefficient'*X +',intercept'|')\n",
    "\n",
    "#print('Model coefficient for y1 is', coefficient)\n",
    "#print(\"Model Intercept:\", intercept)"
   ]
  },
  {
   "cell_type": "code",
   "execution_count": 19,
   "id": "b5adbb1f",
   "metadata": {},
   "outputs": [
    {
     "data": {
      "image/png": "[encoded data removed]",
      "text/plain": [
       "<Figure size 432x288 with 1 Axes>"
      ]
     },
     "metadata": {
      "needs_background": "light"
     },
     "output_type": "display_data"
    }
   ],
   "source": [
    "# Plotting the trainin data and the regression Line\n",
    "plt.plot(df_train[\"x\"], y1_pred, color=\"orange\", label=\"Prediction\")\n",
    "plt.scatter(x=df_train[\"x\"], y=df_train[\"y1\"], label='Training data')\n",
    "plt.xlabel(\"Independent Variable\")\n",
    "plt.ylabel(\"Test Function 1\")\n",
    "plt.title(\"Figure 2: Model_1-Linear Equation within Modulus\")\n",
    "plt.legend();"
   ]
  },
  {
   "cell_type": "code",
   "execution_count": 20,
   "id": "cd6ceb9e",
   "metadata": {},
   "outputs": [],
   "source": [
    "# Total number of values\n",
    "n = len(df_train[\"y1\"])\n",
    "\n",
    "# MODEL EVALUATION USING LEAST SQUARES\n",
    "# CALCULATE THE RMSE FOR EACH COLUMN OF THE IDEAL FUNCTIONS DATA FRAME COMPARED WITH PREDICTED VALUES --\n",
    "\n",
    "rmse_for_model_1 = []        #the list where the rmse values shall be stored\n",
    "\n",
    "# for each column in the dataframe\n",
    "for column in df_ideal.columns[1:]:\n",
    "    rmse = 0\n",
    "    for i in range(n):\n",
    "        y_pred = intercept + coefficient * abs(df_train[\"x\"][i])   # model_1 predicts values of y\n",
    "        rmse += (df_ideal[column][i] - y_pred) ** 2      # square error between the predicted and the ideal values\n",
    "    rmse = np.sqrt(rmse/n)                               # finds the square root of the  of the mean of the squared errors\n",
    "    rmse_for_model_1.append(rmse)                        # store the value of each iteration"
   ]
  },
  {
   "cell_type": "code",
   "execution_count": 21,
   "id": "35cbc053",
   "metadata": {},
   "outputs": [
    {
     "name": "stdout",
     "output_type": "stream",
     "text": [
      "The best fit of the first training function out of the fifty ideal functions is function number:  33\n"
     ]
    }
   ],
   "source": [
    "# DETERMINING THE BEST FIT EQUATION FOR THE FIRST DATA\n",
    "\n",
    "minimum = min(rmse_for_model_1)          # finds the minimum rmse\n",
    "item = minimum                           # assign the minimum rmse to item\n",
    "\n",
    "#search the number of the best fit equation out of the 50 provided\n",
    "index_1 = 1 + rmse_for_model_1.index(item) \n",
    "print(\n",
    "    'The best fit of the first training function out of the fifty ideal functions is function number: ', \n",
    "      index_1)"
   ]
  },
  {
   "cell_type": "code",
   "execution_count": 22,
   "id": "b0093942",
   "metadata": {},
   "outputs": [
    {
     "data": {
      "image/png": "[encoded data removed]",
      "text/plain": [
       "<Figure size 432x288 with 1 Axes>"
      ]
     },
     "metadata": {
      "needs_background": "light"
     },
     "output_type": "display_data"
    }
   ],
   "source": [
    "# TESTING THE DATA\n",
    "\n",
    "plt.scatter(df_train[\"x\"], df_train[\"y1\"], label=\"y1 of the training dataset\")\n",
    "plt.scatter(df_ideal[\"x\"], df_ideal[\"y33\"], color=\"red\", label=\"y33 of the ideal dataset\")\n",
    "plt.xlabel(\"values of x\")\n",
    "plt.ylabel(\"values of y\")\n",
    "plt.title(\"Figure 3: Relationship between y1 of the training data and y33 of the ideal function\")\n",
    "plt.legend();"
   ]
  },
  {
   "cell_type": "markdown",
   "id": "2dfca314",
   "metadata": {},
   "source": [
    "**PART THREE**"
   ]
  },
  {
   "cell_type": "markdown",
   "id": "64db38d8",
   "metadata": {},
   "source": [
    "*This part of the program focus on studying the second training function. It determines the type of equation of y1 training and the corresponding ideal equation.*"
   ]
  },
  {
   "cell_type": "code",
   "execution_count": 23,
   "id": "e49867df",
   "metadata": {},
   "outputs": [
    {
     "data": {
      "image/png": "[encoded data removed]",
      "text/plain": [
       "<Figure size 432x288 with 1 Axes>"
      ]
     },
     "metadata": {
      "needs_background": "light"
     },
     "output_type": "display_data"
    }
   ],
   "source": [
    "#CHECK THE RELATIONSHIP BETWEEN X and the second traning function\n",
    "plt.scatter(x=df_train[\"x\"], y=df_train[\"y2\"])\n",
    "plt.xlabel(\"Independent Variable\")\n",
    "plt.ylabel(\"Test Function 1\")\n",
    "plt.title(\"Figure 4: Relantionship between x and y2\");"
   ]
  },
  {
   "cell_type": "code",
   "execution_count": 24,
   "id": "11f6df9e",
   "metadata": {},
   "outputs": [
    {
     "data": {
      "image/png": "[encoded data removed]",
      "text/plain": [
       "<Figure size 432x288 with 1 Axes>"
      ]
     },
     "metadata": {
      "needs_background": "light"
     },
     "output_type": "display_data"
    }
   ],
   "source": [
    "# Based on Figure 1 we know y2 is a sinusoidal function.\n",
    "# Based on Figure 1 we know approximately the following parameters about y2\n",
    "amplitude_1 = 1.4                      # Amplitude\n",
    "angular_frequency_1 = 3.14159265359/3      # angular frequency\n",
    "phase_1 = 3                            # phase\n",
    "vertical_shift_1 = -10                 # Vertical shift\n",
    "\n",
    "# Generate the equation that defines y2\n",
    "y2_pred = amplitude_1*np.sin(angular_frequency_1*df_train[\"x\"] + phase_1) + vertical_shift_1\n",
    "\n",
    "# Plotting the training data and the regression Line\n",
    "plt.plot(df_train[\"x\"], y2_pred, color=\"orange\", label=\"Prediction\")\n",
    "plt.scatter(x=df_train[\"x\"], y=df_train[\"y2\"], label='Training data')\n",
    "plt.xlabel(\"Independent Variable\")\n",
    "plt.ylabel(\"Test Function 2\")\n",
    "plt.title(\"Figure 5: Model_2-Sinusoidal Function\")\n",
    "plt.legend();"
   ]
  },
  {
   "cell_type": "code",
   "execution_count": 25,
   "id": "2b9add67",
   "metadata": {},
   "outputs": [],
   "source": [
    "# MODEL EVALUATION USING LEAST SQUARES\n",
    "# CALCULATE THE RMSE FOR EACH COLUMN OF THE IDEAL FUNCTIONS DATA FRAME COMPARED WITH PREDICTED VALUES --\n",
    "\n",
    "\n",
    "n = len(df_train[\"y1\"])       # Total number of values\n",
    "rmse_for_model_2 = []         # the list where the rmse values is stored\n",
    "\n",
    "# for each column in the dataframe\n",
    "for column in df_ideal.columns[1:]:\n",
    "    rmse = 0\n",
    "    for i in range(n):\n",
    "        # model_1 predicts values of y\n",
    "        y2_pred = amplitude_1*np.sin(angular_frequency_1*df_train[\"x\"][i] + phase_1) + vertical_shift_1 \n",
    "        # square error between the predicted and the ideal values\n",
    "        rmse += (df_ideal[column][i] - y2_pred) ** 2      \n",
    "    rmse = np.sqrt(rmse/n)             # finds the square root of the  of the mean of the squared errors\n",
    "    rmse_for_model_2.append(rmse)      # store the value of each iteration"
   ]
  },
  {
   "cell_type": "code",
   "execution_count": 26,
   "id": "2239818a",
   "metadata": {},
   "outputs": [
    {
     "name": "stdout",
     "output_type": "stream",
     "text": [
      "The best fit of the first training function out of the fifty ideal functions is function number:  5\n"
     ]
    }
   ],
   "source": [
    "# DETERMINING THE IDEAL FUNCTION OUT OF THE FIFTY IDEAL FOR THE FIRST TRAINING DATA\n",
    "\n",
    "minimum = min(rmse_for_model_2)          # finds the minimum rmse\n",
    "item = minimum                           # assign the minimum rmse to item\n",
    "\n",
    "#search the number of the best fit equation out of the 50 provided\n",
    "index_2 = 1 + rmse_for_model_2.index(item) \n",
    "\n",
    "print(\n",
    "    'The best fit of the first training function out of the fifty ideal functions is function number: ', \n",
    "      index_2)"
   ]
  },
  {
   "cell_type": "code",
   "execution_count": 27,
   "id": "7de08e7e",
   "metadata": {},
   "outputs": [
    {
     "data": {
      "image/png": "[encoded data removed]",
      "text/plain": [
       "<Figure size 432x288 with 1 Axes>"
      ]
     },
     "metadata": {
      "needs_background": "light"
     },
     "output_type": "display_data"
    }
   ],
   "source": [
    "# TESTING THE DATA IDEAL FUNCTION FOR THE SECOND TRAINING FUNCTION\n",
    "\n",
    "plt.scatter(df_ideal[\"x\"], df_ideal[\"y5\"], color=\"red\", label=\"y5 of the ideal dataset\")\n",
    "plt.scatter(df_train[\"x\"], df_train[\"y2\"], label=\"y2 of the training dataset\")\n",
    "plt.xlabel(\"values of x\")\n",
    "plt.ylabel(\"values of y\")\n",
    "plt.title(\"Figure 6: Relationship between y2 (training data) and y5 (ideal function)\")\n",
    "plt.legend();"
   ]
  },
  {
   "cell_type": "code",
   "execution_count": null,
   "id": "7fdae110",
   "metadata": {},
   "outputs": [],
   "source": []
  },
  {
   "cell_type": "code",
   "execution_count": null,
   "id": "4572ff6d",
   "metadata": {},
   "outputs": [],
   "source": []
  },
  {
   "cell_type": "markdown",
   "id": "49b5d884",
   "metadata": {},
   "source": [
    "**PART FOUR**"
   ]
  },
  {
   "cell_type": "markdown",
   "id": "c29fce63",
   "metadata": {},
   "source": [
    "*This part of the program focus on studying the third training equation. It determines the type of equation of y1 training and the corresponding ideal equation*"
   ]
  },
  {
   "cell_type": "code",
   "execution_count": 28,
   "id": "68046403",
   "metadata": {},
   "outputs": [
    {
     "data": {
      "image/png": "[encoded data removed]",
      "text/plain": [
       "<Figure size 432x288 with 1 Axes>"
      ]
     },
     "metadata": {
      "needs_background": "light"
     },
     "output_type": "display_data"
    }
   ],
   "source": [
    "#CHECK THE RELATIONSHIP BETWEEN X and each of train Functions\n",
    "plt.scatter(x=df_train[\"x\"], y=df_train[\"y3\"])\n",
    "plt.xlabel(\"Independent Variable\")\n",
    "plt.ylabel(\"Test Function 1\")\n",
    "plt.title(\"Figure 7: Relantionship between x and y3 (training data)\");"
   ]
  },
  {
   "cell_type": "code",
   "execution_count": 29,
   "id": "b15eb7f3",
   "metadata": {},
   "outputs": [],
   "source": [
    "# Based on Figure 1 we know y3 is a sinusoidal function. \n",
    "# We can estmate the following parameters of y3:\n",
    "\n",
    "\n",
    "amplitude_2 = 1.5                      # Amplitude\n",
    "angular_frequency_2 = 3.14159265359/3      # angular frequency\n",
    "phase_2 = 0.08                         # phase\n",
    "vertical_shift_2 = -0.07               # Vertical shift\n",
    "\n",
    "# Generate the equation that defines y3\n",
    "y3_pred = amplitude_2*np.sin(angular_frequency_2*df_train[\"x\"] + phase_2) + vertical_shift_2"
   ]
  },
  {
   "cell_type": "code",
   "execution_count": 30,
   "id": "f35416eb",
   "metadata": {},
   "outputs": [
    {
     "data": {
      "image/png": "[encoded data removed]",
      "text/plain": [
       "<Figure size 432x288 with 1 Axes>"
      ]
     },
     "metadata": {
      "needs_background": "light"
     },
     "output_type": "display_data"
    }
   ],
   "source": [
    "# Plotting the trainin data and the regression Line\n",
    "plt.plot(df_train[\"x\"], y3_pred, color=\"orange\", label=\"Prediction\")\n",
    "plt.scatter(x=df_train[\"x\"], y=df_train[\"y3\"], label='Training data')\n",
    "plt.xlabel(\"Independent Variable\")\n",
    "plt.ylabel(\"Test Function 3\")\n",
    "plt.title(\"Figure 8: Model_3: Sinusoidal Function\")\n",
    "plt.legend();"
   ]
  },
  {
   "cell_type": "code",
   "execution_count": 31,
   "id": "f549b13d",
   "metadata": {},
   "outputs": [],
   "source": [
    "# MODEL EVALUATION USING LEAST SQUARES\n",
    "# CALCULATE THE RMSE FOR EACH COLUMN OF THE IDEAL FUNCTIONS DATA FRAME COMPARED WITH PREDICTED VALUES --\n",
    "\n",
    "\n",
    "n = len(df_train[\"y3\"])       # Total number of values\n",
    "rmse_for_model_3 = []         # the list where the rmse values shall be stored\n",
    "\n",
    "# for each column in the dataframe\n",
    "for column in df_ideal.columns[1:]:\n",
    "    rmse = 0\n",
    "    for i in range(n):\n",
    "        y3_pred = amplitude_2*np.sin(angular_frequency_2*df_train[\"x\"][i] + phase_2) + vertical_shift_2 # model_1 predicts values of y\n",
    "        rmse += (df_ideal[column][i] - y3_pred) ** 2      # square error between the predicted and the ideal values\n",
    "    rmse = np.sqrt(rmse/n)                               # finds the square root of the  of the mean of the squared errors\n",
    "    rmse_for_model_3.append(rmse)                        # store the value of each iteration"
   ]
  },
  {
   "cell_type": "code",
   "execution_count": 32,
   "id": "92c7079e",
   "metadata": {},
   "outputs": [
    {
     "name": "stdout",
     "output_type": "stream",
     "text": [
      "The best fit for the 3rd training function out of the fifty ideal functions is function number:  1\n"
     ]
    }
   ],
   "source": [
    "# DETERMINING THE IDEAL FUNCTION OUT OF THE FIFTY IDEAL FOR THE THIRD TRAINING FUNCTION\n",
    "\n",
    "# finds the minimum rmse\n",
    "minimum = min(rmse_for_model_3)          \n",
    "\n",
    "# assign the minimum rmse to item\n",
    "item = minimum                           \n",
    "\n",
    "# search the index of the best fit equation out of the 50 provided\n",
    "index_3 = 1 + rmse_for_model_3.index(item) \n",
    "\n",
    "print('The best fit for the 3rd training function out of the fifty ideal functions is function number: ', \n",
    "      index_3)"
   ]
  },
  {
   "cell_type": "code",
   "execution_count": 33,
   "id": "e974be8b",
   "metadata": {},
   "outputs": [
    {
     "data": {
      "image/png": "[encoded data removed]",
      "text/plain": [
       "<Figure size 432x288 with 1 Axes>"
      ]
     },
     "metadata": {
      "needs_background": "light"
     },
     "output_type": "display_data"
    }
   ],
   "source": [
    "# TESTING THE DATA IDEAL FUNCTION FOR THE SECOND TRAINING FUNCTION\n",
    "\n",
    "plt.scatter(df_ideal[\"x\"], df_ideal[\"y1\"], color=\"red\", label=\"y1 of the ideal dataset\")\n",
    "plt.scatter(df_train[\"x\"], df_train[\"y3\"], label=\"y2 of the training dataset\")\n",
    "plt.xlabel(\"values of x\")\n",
    "plt.ylabel(\"values of y\")\n",
    "plt.title(\"Figure 9: Relationship between y3 (training data) and y1 (ideal functions)\")\n",
    "plt.legend();"
   ]
  },
  {
   "cell_type": "code",
   "execution_count": null,
   "id": "4519e702",
   "metadata": {},
   "outputs": [],
   "source": []
  },
  {
   "cell_type": "code",
   "execution_count": null,
   "id": "cdb168bd",
   "metadata": {},
   "outputs": [],
   "source": []
  },
  {
   "cell_type": "markdown",
   "id": "791ef5f4",
   "metadata": {},
   "source": [
    "**PART FIVE**"
   ]
  },
  {
   "cell_type": "markdown",
   "id": "7b265209",
   "metadata": {},
   "source": [
    "*This part of the program focus on studying the fourth training equation. It determines the type of equation of y1 training and the corresponding ideal equation*"
   ]
  },
  {
   "cell_type": "code",
   "execution_count": 34,
   "id": "6f1cebf2",
   "metadata": {},
   "outputs": [
    {
     "data": {
      "image/png": "[encoded data removed]",
      "text/plain": [
       "<Figure size 432x288 with 1 Axes>"
      ]
     },
     "metadata": {
      "needs_background": "light"
     },
     "output_type": "display_data"
    }
   ],
   "source": [
    "#CHECK THE RELATIONSHIP BETWEEN X and each of train Functions\n",
    "plt.scatter(x=df_train[\"x\"], y=df_train[\"y4\"])\n",
    "plt.xlabel(\"Independent Variable\")\n",
    "plt.ylabel(\"Values of y\")\n",
    "plt.title(\"Figure 10: Training Function 4\");"
   ]
  },
  {
   "cell_type": "code",
   "execution_count": 35,
   "id": "dad652b2",
   "metadata": {},
   "outputs": [],
   "source": [
    "# Defining Features\n",
    "features = [\"x\"]\n",
    "X = df_train[features]\n",
    "\n",
    "# Defining target\n",
    "target = \"y4\"\n",
    "y = df_train[target]"
   ]
  },
  {
   "cell_type": "code",
   "execution_count": 36,
   "id": "7980fa90",
   "metadata": {},
   "outputs": [
    {
     "data": {
      "text/plain": [
       "LinearRegression()"
      ]
     },
     "execution_count": 36,
     "metadata": {},
     "output_type": "execute_result"
    }
   ],
   "source": [
    "# Fitting Linear Regression to the dataset\n",
    "\n",
    "from sklearn.linear_model import LinearRegression\n",
    "lin = LinearRegression()\n",
    " \n",
    "lin.fit(X, y)"
   ]
  },
  {
   "cell_type": "code",
   "execution_count": 37,
   "id": "216e0241",
   "metadata": {},
   "outputs": [
    {
     "data": {
      "text/plain": [
       "LinearRegression()"
      ]
     },
     "execution_count": 37,
     "metadata": {},
     "output_type": "execute_result"
    }
   ],
   "source": [
    "# Based on figure 4 we know y4 is a cuboid.\n",
    "# Fitting Polynomial Regression to the dataset, we get:\n",
    "\n",
    "from sklearn.preprocessing import PolynomialFeatures\n",
    " \n",
    "poly = PolynomialFeatures(degree = 4)\n",
    "X_poly = poly.fit_transform(X)\n",
    " \n",
    "poly.fit(X_poly, y)\n",
    "lin2 = LinearRegression()\n",
    "lin2.fit(X_poly, y)"
   ]
  },
  {
   "cell_type": "code",
   "execution_count": 38,
   "id": "3f546226",
   "metadata": {},
   "outputs": [
    {
     "data": {
      "text/plain": [
       "array([ 0.00000000e+00,  2.67463839e-03, -2.00023105e+00,  9.99995458e-01,\n",
       "        7.12350298e-07])"
      ]
     },
     "execution_count": 38,
     "metadata": {},
     "output_type": "execute_result"
    }
   ],
   "source": [
    "# Extract the coefficients of the equation\n",
    "coefficients = lin2.fit(X_poly, y).coef_\n",
    "coefficients"
   ]
  },
  {
   "cell_type": "code",
   "execution_count": 39,
   "id": "1c80e380",
   "metadata": {},
   "outputs": [],
   "source": [
    "# MODEL EVALUATION USING LEAST SQUARES\n",
    "# CALCULATE THE RMSE FOR EACH COLUMN OF THE IDEAL FUNCTIONS DATA FRAME COMPARED WITH PREDICTED VALUES --\n",
    "\n",
    "\n",
    "n = len(df_train[\"y4\"])       # Total number of values\n",
    "rmse_for_model_4 = []         # the list where the rmse values shall be stored\n",
    "\n",
    "# for each column in the dataframe\n",
    "for column in df_ideal.columns[1:]:\n",
    "    rmse = 0\n",
    "    for i in range(n):\n",
    "        y4_pred = lin2.predict(poly.fit_transform(X))\n",
    "        # square error between the predicted and the ideal values\n",
    "        rmse += (df_ideal[column][i] - y4_pred[i]) ** 2    \n",
    "    rmse = np.sqrt(rmse/n)                  # finds the square root of the  of the mean of the squared errors\n",
    "    rmse_for_model_4.append(rmse)           # store the value of each iteration"
   ]
  },
  {
   "cell_type": "code",
   "execution_count": 40,
   "id": "984fda31",
   "metadata": {},
   "outputs": [
    {
     "name": "stdout",
     "output_type": "stream",
     "text": [
      "The best fit for the fouth training function out of the fifty ideal functions is function number:  30\n"
     ]
    }
   ],
   "source": [
    "# DETERMINING THE IDEAL FUNCTION OUT OF THE FIFTY IDEAL FOR THE THIRD TRAINING FUNCTION\n",
    "\n",
    "minimum = min(rmse_for_model_4)          # finds the minimum rmse\n",
    "item = minimum                           # assign the minimum rmse to item\n",
    "\n",
    "index_4 = 1 + rmse_for_model_4.index(item) # search the index of the best fit equation out of the 50 provided\n",
    "\n",
    "print('The best fit for the fouth training function out of the fifty ideal functions is function number: ', \n",
    "      index_4)"
   ]
  },
  {
   "cell_type": "code",
   "execution_count": 41,
   "id": "d858a047",
   "metadata": {
    "scrolled": true
   },
   "outputs": [
    {
     "data": {
      "image/png": "[encoded data removed]",
      "text/plain": [
       "<Figure size 432x288 with 1 Axes>"
      ]
     },
     "metadata": {
      "needs_background": "light"
     },
     "output_type": "display_data"
    }
   ],
   "source": [
    "# TESTING THE DATA IDEAL FUNCTION FOR THE SECOND TRAINING FUNCTION\n",
    "\n",
    "plt.plot(df_train[\"x\"], df_train[\"y4\"], color=\"red\", label=\"y2 (from the training dataset)\")\n",
    "plt.scatter(df_ideal[\"x\"], df_ideal[\"y30\"], color=\"blue\", label=\"y30 (from the ideal dataset)\")\n",
    "plt.xlabel(\"values of x\")\n",
    "plt.ylabel(\"values of y\")\n",
    "plt.title(\"Figure 11: Relationship between y30 of the training data and y1 of the ideal functions\")\n",
    "plt.legend();"
   ]
  },
  {
   "cell_type": "markdown",
   "id": "e5795138",
   "metadata": {},
   "source": [
    "**TASK 1 RESULTS**"
   ]
  },
  {
   "cell_type": "code",
   "execution_count": 42,
   "id": "9dc7c9f7",
   "metadata": {},
   "outputs": [
    {
     "data": {
      "text/html": [
       "<div>\n",
       "<style scoped>\n",
       "    .dataframe tbody tr th:only-of-type {\n",
       "        vertical-align: middle;\n",
       "    }\n",
       "\n",
       "    .dataframe tbody tr th {\n",
       "        vertical-align: top;\n",
       "    }\n",
       "\n",
       "    .dataframe thead th {\n",
       "        text-align: right;\n",
       "    }\n",
       "</style>\n",
       "<table border=\"1\" class=\"dataframe\">\n",
       "  <thead>\n",
       "    <tr style=\"text-align: right;\">\n",
       "      <th></th>\n",
       "      <th>Training function</th>\n",
       "      <th>Number of the Corresponding Ideal function</th>\n",
       "    </tr>\n",
       "  </thead>\n",
       "  <tbody>\n",
       "    <tr>\n",
       "      <th>0</th>\n",
       "      <td>y1</td>\n",
       "      <td>33</td>\n",
       "    </tr>\n",
       "    <tr>\n",
       "      <th>1</th>\n",
       "      <td>y2</td>\n",
       "      <td>5</td>\n",
       "    </tr>\n",
       "    <tr>\n",
       "      <th>2</th>\n",
       "      <td>y3</td>\n",
       "      <td>1</td>\n",
       "    </tr>\n",
       "    <tr>\n",
       "      <th>3</th>\n",
       "      <td>y4</td>\n",
       "      <td>30</td>\n",
       "    </tr>\n",
       "  </tbody>\n",
       "</table>\n",
       "</div>"
      ],
      "text/plain": [
       "  Training function  Number of the Corresponding Ideal function\n",
       "0                y1                                          33\n",
       "1                y2                                           5\n",
       "2                y3                                           1\n",
       "3                y4                                          30"
      ]
     },
     "execution_count": 42,
     "metadata": {},
     "output_type": "execute_result"
    }
   ],
   "source": [
    "# Create a data frame containing the four training function and their corresponding ideal functions\n",
    "\n",
    "data = [['y1',index_1],['y2',index_2],['y3',index_3],['y4',index_4]]\n",
    "df_train_ideal_functions = pd.DataFrame(data, columns = ['Training function','Number of the Corresponding Ideal function'])\n",
    "df_train_ideal_functions"
   ]
  },
  {
   "cell_type": "code",
   "execution_count": null,
   "id": "bbd91f5f",
   "metadata": {},
   "outputs": [],
   "source": []
  },
  {
   "cell_type": "markdown",
   "id": "a548683c",
   "metadata": {},
   "source": [
    "**TASK 2**"
   ]
  },
  {
   "cell_type": "code",
   "execution_count": 43,
   "id": "f8e78a45",
   "metadata": {},
   "outputs": [
    {
     "data": {
      "text/html": [
       "<div>\n",
       "<style scoped>\n",
       "    .dataframe tbody tr th:only-of-type {\n",
       "        vertical-align: middle;\n",
       "    }\n",
       "\n",
       "    .dataframe tbody tr th {\n",
       "        vertical-align: top;\n",
       "    }\n",
       "\n",
       "    .dataframe thead th {\n",
       "        text-align: right;\n",
       "    }\n",
       "</style>\n",
       "<table border=\"1\" class=\"dataframe\">\n",
       "  <thead>\n",
       "    <tr style=\"text-align: right;\">\n",
       "      <th></th>\n",
       "      <th>x</th>\n",
       "      <th>y</th>\n",
       "    </tr>\n",
       "  </thead>\n",
       "  <tbody>\n",
       "    <tr>\n",
       "      <th>0</th>\n",
       "      <td>19.0</td>\n",
       "      <td>17.754017</td>\n",
       "    </tr>\n",
       "    <tr>\n",
       "      <th>1</th>\n",
       "      <td>-0.7</td>\n",
       "      <td>-3444.012500</td>\n",
       "    </tr>\n",
       "    <tr>\n",
       "      <th>2</th>\n",
       "      <td>-5.6</td>\n",
       "      <td>-232.979830</td>\n",
       "    </tr>\n",
       "    <tr>\n",
       "      <th>3</th>\n",
       "      <td>6.1</td>\n",
       "      <td>5950.886000</td>\n",
       "    </tr>\n",
       "    <tr>\n",
       "      <th>4</th>\n",
       "      <td>0.2</td>\n",
       "      <td>5.371201</td>\n",
       "    </tr>\n",
       "  </tbody>\n",
       "</table>\n",
       "</div>"
      ],
      "text/plain": [
       "      x            y\n",
       "0  19.0    17.754017\n",
       "1  -0.7 -3444.012500\n",
       "2  -5.6  -232.979830\n",
       "3   6.1  5950.886000\n",
       "4   0.2     5.371201"
      ]
     },
     "execution_count": 43,
     "metadata": {},
     "output_type": "execute_result"
    }
   ],
   "source": [
    "df_test.head()"
   ]
  },
  {
   "cell_type": "code",
   "execution_count": null,
   "id": "86243f57",
   "metadata": {},
   "outputs": [],
   "source": []
  },
  {
   "cell_type": "code",
   "execution_count": 44,
   "id": "2c8839e8",
   "metadata": {},
   "outputs": [
    {
     "data": {
      "text/html": [
       "<div>\n",
       "<style scoped>\n",
       "    .dataframe tbody tr th:only-of-type {\n",
       "        vertical-align: middle;\n",
       "    }\n",
       "\n",
       "    .dataframe tbody tr th {\n",
       "        vertical-align: top;\n",
       "    }\n",
       "\n",
       "    .dataframe thead th {\n",
       "        text-align: right;\n",
       "    }\n",
       "</style>\n",
       "<table border=\"1\" class=\"dataframe\">\n",
       "  <thead>\n",
       "    <tr style=\"text-align: right;\">\n",
       "      <th></th>\n",
       "      <th>x</th>\n",
       "      <th>y1_tain</th>\n",
       "      <th>y1_ideal</th>\n",
       "      <th>dev_1</th>\n",
       "      <th>y2_tain</th>\n",
       "      <th>y2_ideal</th>\n",
       "      <th>dev_2</th>\n",
       "      <th>y3_tain</th>\n",
       "      <th>y3_ideal</th>\n",
       "      <th>dev_3</th>\n",
       "      <th>y4_tain</th>\n",
       "      <th>y4_ideal</th>\n",
       "      <th>dev_4</th>\n",
       "    </tr>\n",
       "  </thead>\n",
       "  <tbody>\n",
       "    <tr>\n",
       "      <th>0</th>\n",
       "      <td>-20.0</td>\n",
       "      <td>19.682550</td>\n",
       "      <td>20.124610</td>\n",
       "      <td>-0.442060</td>\n",
       "      <td>-8.643847</td>\n",
       "      <td>-9.087055</td>\n",
       "      <td>0.443208</td>\n",
       "      <td>-0.792252</td>\n",
       "      <td>-0.912945</td>\n",
       "      <td>0.120693</td>\n",
       "      <td>-8795.289</td>\n",
       "      <td>-8795.000</td>\n",
       "      <td>-0.289</td>\n",
       "    </tr>\n",
       "    <tr>\n",
       "      <th>1</th>\n",
       "      <td>-19.9</td>\n",
       "      <td>20.401932</td>\n",
       "      <td>20.025234</td>\n",
       "      <td>0.376698</td>\n",
       "      <td>-8.724133</td>\n",
       "      <td>-9.132356</td>\n",
       "      <td>0.408223</td>\n",
       "      <td>-1.132539</td>\n",
       "      <td>-0.867644</td>\n",
       "      <td>-0.264895</td>\n",
       "      <td>-8667.858</td>\n",
       "      <td>-8667.619</td>\n",
       "      <td>-0.239</td>\n",
       "    </tr>\n",
       "    <tr>\n",
       "      <th>2</th>\n",
       "      <td>-19.8</td>\n",
       "      <td>19.618414</td>\n",
       "      <td>19.925863</td>\n",
       "      <td>-0.307449</td>\n",
       "      <td>-8.848171</td>\n",
       "      <td>-9.186326</td>\n",
       "      <td>0.338155</td>\n",
       "      <td>-0.610908</td>\n",
       "      <td>-0.813674</td>\n",
       "      <td>0.202766</td>\n",
       "      <td>-8541.768</td>\n",
       "      <td>-8541.472</td>\n",
       "      <td>-0.296</td>\n",
       "    </tr>\n",
       "    <tr>\n",
       "      <th>3</th>\n",
       "      <td>-19.7</td>\n",
       "      <td>19.495897</td>\n",
       "      <td>19.826498</td>\n",
       "      <td>-0.330601</td>\n",
       "      <td>-9.648293</td>\n",
       "      <td>-9.248426</td>\n",
       "      <td>-0.399867</td>\n",
       "      <td>-1.236778</td>\n",
       "      <td>-0.751573</td>\n",
       "      <td>-0.485205</td>\n",
       "      <td>-8416.403</td>\n",
       "      <td>-8416.553</td>\n",
       "      <td>0.150</td>\n",
       "    </tr>\n",
       "    <tr>\n",
       "      <th>4</th>\n",
       "      <td>-19.6</td>\n",
       "      <td>20.155570</td>\n",
       "      <td>19.727139</td>\n",
       "      <td>0.428431</td>\n",
       "      <td>-9.133513</td>\n",
       "      <td>-9.318036</td>\n",
       "      <td>0.184523</td>\n",
       "      <td>-0.416563</td>\n",
       "      <td>-0.681964</td>\n",
       "      <td>0.265401</td>\n",
       "      <td>-8292.688</td>\n",
       "      <td>-8292.856</td>\n",
       "      <td>0.168</td>\n",
       "    </tr>\n",
       "  </tbody>\n",
       "</table>\n",
       "</div>"
      ],
      "text/plain": [
       "      x    y1_tain   y1_ideal     dev_1   y2_tain  y2_ideal     dev_2  \\\n",
       "0 -20.0  19.682550  20.124610 -0.442060 -8.643847 -9.087055  0.443208   \n",
       "1 -19.9  20.401932  20.025234  0.376698 -8.724133 -9.132356  0.408223   \n",
       "2 -19.8  19.618414  19.925863 -0.307449 -8.848171 -9.186326  0.338155   \n",
       "3 -19.7  19.495897  19.826498 -0.330601 -9.648293 -9.248426 -0.399867   \n",
       "4 -19.6  20.155570  19.727139  0.428431 -9.133513 -9.318036  0.184523   \n",
       "\n",
       "    y3_tain  y3_ideal     dev_3   y4_tain  y4_ideal  dev_4  \n",
       "0 -0.792252 -0.912945  0.120693 -8795.289 -8795.000 -0.289  \n",
       "1 -1.132539 -0.867644 -0.264895 -8667.858 -8667.619 -0.239  \n",
       "2 -0.610908 -0.813674  0.202766 -8541.768 -8541.472 -0.296  \n",
       "3 -1.236778 -0.751573 -0.485205 -8416.403 -8416.553  0.150  \n",
       "4 -0.416563 -0.681964  0.265401 -8292.688 -8292.856  0.168  "
      ]
     },
     "execution_count": 44,
     "metadata": {},
     "output_type": "execute_result"
    }
   ],
   "source": [
    "# CREATE A DATAFRAME \n",
    "# Calculate and store the deviation between train & ideal dataset for each of the four functions studied above\n",
    "\n",
    "df_dev_2 = pd.DataFrame()\n",
    "df_dev_2[\"x\"] = df_train[\"x\"]\n",
    "df_dev_2[\"y1_tain\"] = df_train[\"y1\"]\n",
    "df_dev_2[\"y1_ideal\"] = df_ideal[\"y33\"]\n",
    "df_dev_2[\"dev_1\"] = df_train[\"y1\"] - df_ideal[\"y33\"]\n",
    "df_dev_2[\"y2_tain\"] = df_train[\"y2\"]\n",
    "df_dev_2[\"y2_ideal\"] = df_ideal[\"y5\"]\n",
    "df_dev_2[\"dev_2\"] = df_train[\"y2\"] - df_ideal[\"y5\"]\n",
    "df_dev_2[\"y3_tain\"] = df_train[\"y3\"]\n",
    "df_dev_2[\"y3_ideal\"] = df_ideal[\"y1\"]\n",
    "df_dev_2[\"dev_3\"] = df_train[\"y3\"] - df_ideal[\"y1\"]\n",
    "df_dev_2[\"y4_tain\"] = df_train[\"y4\"]\n",
    "df_dev_2[\"y4_ideal\"] = df_ideal[\"y30\"]\n",
    "df_dev_2[\"dev_4\"] = df_train[\"y4\"] - df_ideal[\"y30\"]\n",
    "df_dev_2.head()"
   ]
  },
  {
   "cell_type": "code",
   "execution_count": 45,
   "id": "f8915c5f",
   "metadata": {},
   "outputs": [],
   "source": [
    "# To address the problem statement, we need to use only the maximum train-to-ideal deviation for each of the four chosen functions\n",
    "# Below we extract the max for each of the four functions\n",
    "y1_train_ideal_dev = max(df_dev_2[\"dev_1\"])\n",
    "y2_train_ideal_dev = max(df_dev_2[\"dev_2\"])\n",
    "y3_train_ideal_dev = max(df_dev_2[\"dev_3\"])\n",
    "y4_train_ideal_dev = max(df_dev_2[\"dev_4\"])"
   ]
  },
  {
   "cell_type": "code",
   "execution_count": 46,
   "id": "33a01c80",
   "metadata": {},
   "outputs": [
    {
     "data": {
      "text/html": [
       "<div>\n",
       "<style scoped>\n",
       "    .dataframe tbody tr th:only-of-type {\n",
       "        vertical-align: middle;\n",
       "    }\n",
       "\n",
       "    .dataframe tbody tr th {\n",
       "        vertical-align: top;\n",
       "    }\n",
       "\n",
       "    .dataframe thead th {\n",
       "        text-align: right;\n",
       "    }\n",
       "</style>\n",
       "<table border=\"1\" class=\"dataframe\">\n",
       "  <thead>\n",
       "    <tr style=\"text-align: right;\">\n",
       "      <th></th>\n",
       "      <th>x</th>\n",
       "      <th>y_test</th>\n",
       "      <th>calculated regression 1</th>\n",
       "      <th>calculated regression 2</th>\n",
       "      <th>calculated regression 3</th>\n",
       "      <th>calculated regression 4</th>\n",
       "      <th>AE between test &amp; calReg_1</th>\n",
       "      <th>y1 train_ideal max dev</th>\n",
       "      <th>y1 train_ideal max dev times sqrt(2)</th>\n",
       "      <th>diff. between AE and train_ideal devs_1</th>\n",
       "      <th>...</th>\n",
       "      <th>y2 train_ideal max dev times sqrt(2)</th>\n",
       "      <th>diff. between AE and train_ideal devs_2</th>\n",
       "      <th>AE between test &amp; calReg_3</th>\n",
       "      <th>y3 train_ideal max dev</th>\n",
       "      <th>y3 train_ideal max dev times sqrt(2)</th>\n",
       "      <th>diff. between AE and train_ideal devs_3</th>\n",
       "      <th>AE between test &amp; calReg_4</th>\n",
       "      <th>y4 train_ideal max dev</th>\n",
       "      <th>y4 train_ideal max dev times sqrt(2)</th>\n",
       "      <th>diff. between AE and train_ideal devs_4</th>\n",
       "    </tr>\n",
       "  </thead>\n",
       "  <tbody>\n",
       "    <tr>\n",
       "      <th>0</th>\n",
       "      <td>19.0</td>\n",
       "      <td>17.754017</td>\n",
       "      <td>18.924152</td>\n",
       "      <td>-11.101518</td>\n",
       "      <td>1.284819</td>\n",
       "      <td>-684.738151</td>\n",
       "      <td>1.170135</td>\n",
       "      <td>0.492294</td>\n",
       "      <td>0.696208</td>\n",
       "      <td>0.677842</td>\n",
       "      <td>...</td>\n",
       "      <td>0.706533</td>\n",
       "      <td>28.355941</td>\n",
       "      <td>16.469198</td>\n",
       "      <td>0.495628</td>\n",
       "      <td>0.700924</td>\n",
       "      <td>15.973569</td>\n",
       "      <td>702.492168</td>\n",
       "      <td>0.4995</td>\n",
       "      <td>0.7064</td>\n",
       "      <td>701.992668</td>\n",
       "    </tr>\n",
       "    <tr>\n",
       "      <th>1</th>\n",
       "      <td>-0.7</td>\n",
       "      <td>-3444.012500</td>\n",
       "      <td>1.669346</td>\n",
       "      <td>-8.925770</td>\n",
       "      <td>-0.981404</td>\n",
       "      <td>-1.681027</td>\n",
       "      <td>3445.681846</td>\n",
       "      <td>0.492294</td>\n",
       "      <td>0.696208</td>\n",
       "      <td>3445.189552</td>\n",
       "      <td>...</td>\n",
       "      <td>0.706533</td>\n",
       "      <td>3434.587136</td>\n",
       "      <td>3443.031096</td>\n",
       "      <td>0.495628</td>\n",
       "      <td>0.700924</td>\n",
       "      <td>3442.535468</td>\n",
       "      <td>3442.331473</td>\n",
       "      <td>0.4995</td>\n",
       "      <td>0.7064</td>\n",
       "      <td>3441.831973</td>\n",
       "    </tr>\n",
       "    <tr>\n",
       "      <th>2</th>\n",
       "      <td>-5.6</td>\n",
       "      <td>-232.979830</td>\n",
       "      <td>6.289485</td>\n",
       "      <td>-10.383245</td>\n",
       "      <td>0.647662</td>\n",
       "      <td>-68.796929</td>\n",
       "      <td>239.269315</td>\n",
       "      <td>0.492294</td>\n",
       "      <td>0.696208</td>\n",
       "      <td>238.777022</td>\n",
       "      <td>...</td>\n",
       "      <td>0.706533</td>\n",
       "      <td>222.096991</td>\n",
       "      <td>233.627492</td>\n",
       "      <td>0.495628</td>\n",
       "      <td>0.700924</td>\n",
       "      <td>233.131864</td>\n",
       "      <td>164.182901</td>\n",
       "      <td>0.4995</td>\n",
       "      <td>0.7064</td>\n",
       "      <td>163.683401</td>\n",
       "    </tr>\n",
       "    <tr>\n",
       "      <th>3</th>\n",
       "      <td>6.1</td>\n",
       "      <td>5950.886000</td>\n",
       "      <td>6.760928</td>\n",
       "      <td>-9.948390</td>\n",
       "      <td>0.205507</td>\n",
       "      <td>-67.721532</td>\n",
       "      <td>5944.125072</td>\n",
       "      <td>0.492294</td>\n",
       "      <td>0.696208</td>\n",
       "      <td>5943.632778</td>\n",
       "      <td>...</td>\n",
       "      <td>0.706533</td>\n",
       "      <td>5960.334796</td>\n",
       "      <td>5950.680493</td>\n",
       "      <td>0.495628</td>\n",
       "      <td>0.700924</td>\n",
       "      <td>5950.184865</td>\n",
       "      <td>6018.607532</td>\n",
       "      <td>0.4995</td>\n",
       "      <td>0.7064</td>\n",
       "      <td>6018.108032</td>\n",
       "    </tr>\n",
       "    <tr>\n",
       "      <th>4</th>\n",
       "      <td>0.2</td>\n",
       "      <td>5.371201</td>\n",
       "      <td>1.197903</td>\n",
       "      <td>-10.094913</td>\n",
       "      <td>0.358123</td>\n",
       "      <td>0.120012</td>\n",
       "      <td>4.173297</td>\n",
       "      <td>0.492294</td>\n",
       "      <td>0.696208</td>\n",
       "      <td>3.681004</td>\n",
       "      <td>...</td>\n",
       "      <td>0.706533</td>\n",
       "      <td>14.966519</td>\n",
       "      <td>5.013078</td>\n",
       "      <td>0.495628</td>\n",
       "      <td>0.700924</td>\n",
       "      <td>4.517450</td>\n",
       "      <td>5.251189</td>\n",
       "      <td>0.4995</td>\n",
       "      <td>0.7064</td>\n",
       "      <td>4.751689</td>\n",
       "    </tr>\n",
       "  </tbody>\n",
       "</table>\n",
       "<p>5 rows × 22 columns</p>\n",
       "</div>"
      ],
      "text/plain": [
       "      x       y_test  calculated regression 1  calculated regression 2  \\\n",
       "0  19.0    17.754017                18.924152               -11.101518   \n",
       "1  -0.7 -3444.012500                 1.669346                -8.925770   \n",
       "2  -5.6  -232.979830                 6.289485               -10.383245   \n",
       "3   6.1  5950.886000                 6.760928                -9.948390   \n",
       "4   0.2     5.371201                 1.197903               -10.094913   \n",
       "\n",
       "   calculated regression 3  calculated regression 4  \\\n",
       "0                 1.284819              -684.738151   \n",
       "1                -0.981404                -1.681027   \n",
       "2                 0.647662               -68.796929   \n",
       "3                 0.205507               -67.721532   \n",
       "4                 0.358123                 0.120012   \n",
       "\n",
       "   AE between test & calReg_1  y1 train_ideal max dev  \\\n",
       "0                    1.170135                0.492294   \n",
       "1                 3445.681846                0.492294   \n",
       "2                  239.269315                0.492294   \n",
       "3                 5944.125072                0.492294   \n",
       "4                    4.173297                0.492294   \n",
       "\n",
       "   y1 train_ideal max dev times sqrt(2)  \\\n",
       "0                              0.696208   \n",
       "1                              0.696208   \n",
       "2                              0.696208   \n",
       "3                              0.696208   \n",
       "4                              0.696208   \n",
       "\n",
       "   diff. between AE and train_ideal devs_1  ...  \\\n",
       "0                                 0.677842  ...   \n",
       "1                              3445.189552  ...   \n",
       "2                               238.777022  ...   \n",
       "3                              5943.632778  ...   \n",
       "4                                 3.681004  ...   \n",
       "\n",
       "   y2 train_ideal max dev times sqrt(2)  \\\n",
       "0                              0.706533   \n",
       "1                              0.706533   \n",
       "2                              0.706533   \n",
       "3                              0.706533   \n",
       "4                              0.706533   \n",
       "\n",
       "   diff. between AE and train_ideal devs_2  AE between test & calReg_3  \\\n",
       "0                                28.355941                   16.469198   \n",
       "1                              3434.587136                 3443.031096   \n",
       "2                               222.096991                  233.627492   \n",
       "3                              5960.334796                 5950.680493   \n",
       "4                                14.966519                    5.013078   \n",
       "\n",
       "   y3 train_ideal max dev  y3 train_ideal max dev times sqrt(2)  \\\n",
       "0                0.495628                              0.700924   \n",
       "1                0.495628                              0.700924   \n",
       "2                0.495628                              0.700924   \n",
       "3                0.495628                              0.700924   \n",
       "4                0.495628                              0.700924   \n",
       "\n",
       "   diff. between AE and train_ideal devs_3  AE between test & calReg_4  \\\n",
       "0                                15.973569                  702.492168   \n",
       "1                              3442.535468                 3442.331473   \n",
       "2                               233.131864                  164.182901   \n",
       "3                              5950.184865                 6018.607532   \n",
       "4                                 4.517450                    5.251189   \n",
       "\n",
       "   y4 train_ideal max dev  y4 train_ideal max dev times sqrt(2)  \\\n",
       "0                  0.4995                                0.7064   \n",
       "1                  0.4995                                0.7064   \n",
       "2                  0.4995                                0.7064   \n",
       "3                  0.4995                                0.7064   \n",
       "4                  0.4995                                0.7064   \n",
       "\n",
       "   diff. between AE and train_ideal devs_4  \n",
       "0                               701.992668  \n",
       "1                              3441.831973  \n",
       "2                               163.683401  \n",
       "3                              6018.108032  \n",
       "4                                 4.751689  \n",
       "\n",
       "[5 rows x 22 columns]"
      ]
     },
     "execution_count": 46,
     "metadata": {},
     "output_type": "execute_result"
    }
   ],
   "source": [
    "# Calculated regression for y1, y2, y3, and y4 in the training dataset\n",
    "y_calReg_1 = coefficient*abs(df_test[\"x\"])+intercept   \n",
    "y_calReg_2 = amplitude_1*np.sin(angular_frequency_1*df_test[\"x\"] + phase_1) + vertical_shift_1 \n",
    "y_calReg_3 = amplitude_2*np.sin(angular_frequency_2*df_test[\"x\"] + phase_2) + vertical_shift_2 \n",
    "y_calReg_4 = coefficients[1]*(df_test[\"x\"]**3) + coefficients[2]*(df_test[\"x\"]**2) + coefficients[3]*(df_test[\"x\"]) + coefficients[-1]\n",
    "\n",
    "# Create a DataFrame \n",
    "# In it we will store the fours calculated regressions, train-ideal deviation, test-calculated regression deviation, \n",
    "# difference between both deviations,and train-ideal deviation times sqrt(2).\n",
    "df_dev = pd.DataFrame()\n",
    "df_dev[\"x\"] = df_test[\"x\"]\n",
    "df_dev[\"y_test\"] = df_test[\"y\"]\n",
    "\n",
    "# Add the four calculated regressions into the DataFrame\n",
    "df_dev[\"calculated regression 1\"] = y_calReg_1\n",
    "df_dev[\"calculated regression 2\"] = y_calReg_2\n",
    "df_dev[\"calculated regression 3\"] = y_calReg_3\n",
    "df_dev[\"calculated regression 4\"] = y_calReg_4\n",
    "\n",
    "# Add the train-ideal deviation, test-calculated regression deviation, difference between both deviations,and train-ideal deviation times sqrt(2) into the DataFrame\n",
    "\n",
    "# y1 (from the train dataset)\n",
    "df_dev[\"AE between test & calReg_1\"] = abs(df_dev[\"calculated regression 1\"]-df_dev[\"y_test\"])\n",
    "df_dev[\"y1 train_ideal max dev\"] = [y1_train_ideal_dev] * len(df_dev)\n",
    "df_dev[\"y1 train_ideal max dev times sqrt(2)\"] = math.sqrt(2)*df_dev[\"y1 train_ideal max dev\"]\n",
    "df_dev[\"diff. between AE and train_ideal devs_1\"] = df_dev[\"AE between test & calReg_1\"] - df_dev[\"y1 train_ideal max dev\"]\n",
    "\n",
    "# y2 (from the train dataset)\n",
    "df_dev[\"AE between test & calReg_2\"] = abs(df_dev[\"calculated regression 2\"]-df_dev[\"y_test\"])\n",
    "df_dev[\"y2 train_ideal max dev\"] = [y2_train_ideal_dev] * len(df_dev)\n",
    "df_dev[\"y2 train_ideal max dev times sqrt(2)\"] = math.sqrt(2)*df_dev[\"y2 train_ideal max dev\"]\n",
    "df_dev[\"diff. between AE and train_ideal devs_2\"] = df_dev[\"AE between test & calReg_2\"] - df_dev[\"y2 train_ideal max dev\"]\n",
    "\n",
    "# y3 (from the train dataset)\n",
    "df_dev[\"AE between test & calReg_3\"] = abs(df_dev[\"calculated regression 3\"]-df_dev[\"y_test\"])\n",
    "df_dev[\"y3 train_ideal max dev\"] = [y3_train_ideal_dev] * len(df_dev)\n",
    "df_dev[\"y3 train_ideal max dev times sqrt(2)\"] = math.sqrt(2)*df_dev[\"y3 train_ideal max dev\"]\n",
    "df_dev[\"diff. between AE and train_ideal devs_3\"] = df_dev[\"AE between test & calReg_3\"] - df_dev[\"y3 train_ideal max dev\"]\n",
    "\n",
    "# y4 (from the train dataset)\n",
    "df_dev[\"AE between test & calReg_4\"] = abs(df_dev[\"calculated regression 4\"]-df_dev[\"y_test\"])\n",
    "df_dev[\"y4 train_ideal max dev\"] = [y4_train_ideal_dev] * len(df_dev)\n",
    "df_dev[\"y4 train_ideal max dev times sqrt(2)\"] = math.sqrt(2)*df_dev[\"y4 train_ideal max dev\"]\n",
    "df_dev[\"diff. between AE and train_ideal devs_4\"] = df_dev[\"AE between test & calReg_4\"] - df_dev[\"y4 train_ideal max dev\"]\n",
    "\n",
    "\n",
    "df_dev.head()"
   ]
  },
  {
   "cell_type": "code",
   "execution_count": null,
   "id": "d23f25b0",
   "metadata": {},
   "outputs": [],
   "source": []
  },
  {
   "cell_type": "code",
   "execution_count": 47,
   "id": "f40fdca6",
   "metadata": {},
   "outputs": [
    {
     "data": {
      "text/html": [
       "<div>\n",
       "<style scoped>\n",
       "    .dataframe tbody tr th:only-of-type {\n",
       "        vertical-align: middle;\n",
       "    }\n",
       "\n",
       "    .dataframe tbody tr th {\n",
       "        vertical-align: top;\n",
       "    }\n",
       "\n",
       "    .dataframe thead th {\n",
       "        text-align: right;\n",
       "    }\n",
       "</style>\n",
       "<table border=\"1\" class=\"dataframe\">\n",
       "  <thead>\n",
       "    <tr style=\"text-align: right;\">\n",
       "      <th></th>\n",
       "      <th>x</th>\n",
       "      <th>y_test</th>\n",
       "      <th>If mapped to y33_ideal (or y1_train)</th>\n",
       "      <th>If not, print False</th>\n",
       "      <th>y1 train_ideal max dev times sqrt(2)</th>\n",
       "      <th>diff. between train-ideal &amp; test-calReg. devs. for y1 (train)</th>\n",
       "      <th>If mapped to y5_ideal (or y2_train)</th>\n",
       "      <th>y2 train_ideal max dev times sqrt(2)</th>\n",
       "      <th>diff. between train-ideal &amp; test-calReg. devs. for y2 (train)</th>\n",
       "      <th>If mapped to y1_ideal (or y3_train)</th>\n",
       "      <th>y3 train_ideal max dev times sqrt(2)</th>\n",
       "      <th>diff. between train-ideal &amp; test-calReg. devs. for y3 (train)</th>\n",
       "      <th>If mapped to y30_ideal (or y4_train)</th>\n",
       "      <th>y4 train_ideal max dev times sqrt(2)</th>\n",
       "      <th>diff. between train-ideal &amp; test-calReg. devs. for y4 (train)</th>\n",
       "    </tr>\n",
       "  </thead>\n",
       "  <tbody>\n",
       "    <tr>\n",
       "      <th>0</th>\n",
       "      <td>19.0</td>\n",
       "      <td>17.754017</td>\n",
       "      <td>33</td>\n",
       "      <td>0</td>\n",
       "      <td>0.696208</td>\n",
       "      <td>0.677842</td>\n",
       "      <td>5</td>\n",
       "      <td>0.706533</td>\n",
       "      <td>28.355941</td>\n",
       "      <td>1</td>\n",
       "      <td>0.700924</td>\n",
       "      <td>15.973569</td>\n",
       "      <td>30</td>\n",
       "      <td>0.7064</td>\n",
       "      <td>701.992668</td>\n",
       "    </tr>\n",
       "    <tr>\n",
       "      <th>1</th>\n",
       "      <td>-0.7</td>\n",
       "      <td>-3444.012500</td>\n",
       "      <td>33</td>\n",
       "      <td>0</td>\n",
       "      <td>0.696208</td>\n",
       "      <td>3445.189552</td>\n",
       "      <td>5</td>\n",
       "      <td>0.706533</td>\n",
       "      <td>3434.587136</td>\n",
       "      <td>1</td>\n",
       "      <td>0.700924</td>\n",
       "      <td>3442.535468</td>\n",
       "      <td>30</td>\n",
       "      <td>0.7064</td>\n",
       "      <td>3441.831973</td>\n",
       "    </tr>\n",
       "    <tr>\n",
       "      <th>2</th>\n",
       "      <td>-5.6</td>\n",
       "      <td>-232.979830</td>\n",
       "      <td>33</td>\n",
       "      <td>0</td>\n",
       "      <td>0.696208</td>\n",
       "      <td>238.777022</td>\n",
       "      <td>5</td>\n",
       "      <td>0.706533</td>\n",
       "      <td>222.096991</td>\n",
       "      <td>1</td>\n",
       "      <td>0.700924</td>\n",
       "      <td>233.131864</td>\n",
       "      <td>30</td>\n",
       "      <td>0.7064</td>\n",
       "      <td>163.683401</td>\n",
       "    </tr>\n",
       "    <tr>\n",
       "      <th>3</th>\n",
       "      <td>6.1</td>\n",
       "      <td>5950.886000</td>\n",
       "      <td>33</td>\n",
       "      <td>0</td>\n",
       "      <td>0.696208</td>\n",
       "      <td>5943.632778</td>\n",
       "      <td>5</td>\n",
       "      <td>0.706533</td>\n",
       "      <td>5960.334796</td>\n",
       "      <td>1</td>\n",
       "      <td>0.700924</td>\n",
       "      <td>5950.184865</td>\n",
       "      <td>30</td>\n",
       "      <td>0.7064</td>\n",
       "      <td>6018.108032</td>\n",
       "    </tr>\n",
       "    <tr>\n",
       "      <th>4</th>\n",
       "      <td>0.2</td>\n",
       "      <td>5.371201</td>\n",
       "      <td>33</td>\n",
       "      <td>0</td>\n",
       "      <td>0.696208</td>\n",
       "      <td>3.681004</td>\n",
       "      <td>5</td>\n",
       "      <td>0.706533</td>\n",
       "      <td>14.966519</td>\n",
       "      <td>1</td>\n",
       "      <td>0.700924</td>\n",
       "      <td>4.517450</td>\n",
       "      <td>30</td>\n",
       "      <td>0.7064</td>\n",
       "      <td>4.751689</td>\n",
       "    </tr>\n",
       "  </tbody>\n",
       "</table>\n",
       "</div>"
      ],
      "text/plain": [
       "      x       y_test  If mapped to y33_ideal (or y1_train)  \\\n",
       "0  19.0    17.754017                                    33   \n",
       "1  -0.7 -3444.012500                                    33   \n",
       "2  -5.6  -232.979830                                    33   \n",
       "3   6.1  5950.886000                                    33   \n",
       "4   0.2     5.371201                                    33   \n",
       "\n",
       "   If not, print False  y1 train_ideal max dev times sqrt(2)  \\\n",
       "0                    0                              0.696208   \n",
       "1                    0                              0.696208   \n",
       "2                    0                              0.696208   \n",
       "3                    0                              0.696208   \n",
       "4                    0                              0.696208   \n",
       "\n",
       "   diff. between train-ideal & test-calReg. devs. for y1 (train)  \\\n",
       "0                                           0.677842               \n",
       "1                                        3445.189552               \n",
       "2                                         238.777022               \n",
       "3                                        5943.632778               \n",
       "4                                           3.681004               \n",
       "\n",
       "   If mapped to y5_ideal (or y2_train)  y2 train_ideal max dev times sqrt(2)  \\\n",
       "0                                    5                              0.706533   \n",
       "1                                    5                              0.706533   \n",
       "2                                    5                              0.706533   \n",
       "3                                    5                              0.706533   \n",
       "4                                    5                              0.706533   \n",
       "\n",
       "   diff. between train-ideal & test-calReg. devs. for y2 (train)  \\\n",
       "0                                          28.355941               \n",
       "1                                        3434.587136               \n",
       "2                                         222.096991               \n",
       "3                                        5960.334796               \n",
       "4                                          14.966519               \n",
       "\n",
       "   If mapped to y1_ideal (or y3_train)  y3 train_ideal max dev times sqrt(2)  \\\n",
       "0                                    1                              0.700924   \n",
       "1                                    1                              0.700924   \n",
       "2                                    1                              0.700924   \n",
       "3                                    1                              0.700924   \n",
       "4                                    1                              0.700924   \n",
       "\n",
       "   diff. between train-ideal & test-calReg. devs. for y3 (train)  \\\n",
       "0                                          15.973569               \n",
       "1                                        3442.535468               \n",
       "2                                         233.131864               \n",
       "3                                        5950.184865               \n",
       "4                                           4.517450               \n",
       "\n",
       "   If mapped to y30_ideal (or y4_train)  y4 train_ideal max dev times sqrt(2)  \\\n",
       "0                                    30                                0.7064   \n",
       "1                                    30                                0.7064   \n",
       "2                                    30                                0.7064   \n",
       "3                                    30                                0.7064   \n",
       "4                                    30                                0.7064   \n",
       "\n",
       "   diff. between train-ideal & test-calReg. devs. for y4 (train)  \n",
       "0                                         701.992668              \n",
       "1                                        3441.831973              \n",
       "2                                         163.683401              \n",
       "3                                        6018.108032              \n",
       "4                                           4.751689              "
      ]
     },
     "execution_count": 47,
     "metadata": {},
     "output_type": "execute_result"
    }
   ],
   "source": [
    "# Creat a new dataframe that includes only the columns that you will need in the final analysis\n",
    "# To facilitate the analysis, let us split the data according to y1, y2, y3, and y4 (from the train dataset)\n",
    "\n",
    "# The two diviations involving the first train function and its corresponding ideal function\n",
    "df_results = pd.DataFrame()\n",
    "df_results['x'] = df_dev['x']             # this is the x-values given in the test dataset\n",
    "df_results['y_test'] = df_dev['y_test']   # this is the y-values given in the test dataset\n",
    "\n",
    "# add columns containing information about y1_train and its corresponding ideal function (y33_ideal)\n",
    "df_results['If mapped to y33_ideal (or y1_train)'] = [33] * len(df_results['x'])\n",
    "df_results['If not, print False'] = [0] * len(df_results['x'])\n",
    "df_results['y1 train_ideal max dev times sqrt(2)'] = df_dev['y1 train_ideal max dev times sqrt(2)']\n",
    "df_results['diff. between train-ideal & test-calReg. devs. for y1 (train)'] = df_dev['diff. between AE and train_ideal devs_1']\n",
    "\n",
    "# add columns containing information about y2_train and its corresponding ideal function (y5_ideal)\n",
    "df_results['If mapped to y5_ideal (or y2_train)'] = [5] * len(df_results['x'])\n",
    "df_results['y2 train_ideal max dev times sqrt(2)'] = df_dev['y2 train_ideal max dev times sqrt(2)']\n",
    "df_results['diff. between train-ideal & test-calReg. devs. for y2 (train)'] = df_dev['diff. between AE and train_ideal devs_2']\n",
    "\n",
    "# add columns containing information about y3_train and its corresponding ideal function (y1_ideal)\n",
    "df_results['If mapped to y1_ideal (or y3_train)'] = [1] * len(df_results['x']) \n",
    "df_results['y3 train_ideal max dev times sqrt(2)'] = df_dev['y3 train_ideal max dev times sqrt(2)']\n",
    "df_results['diff. between train-ideal & test-calReg. devs. for y3 (train)'] = df_dev['diff. between AE and train_ideal devs_3']\n",
    "\n",
    "# add columns containing information about y4_train and its corresponding ideal function (y30_ideal)\n",
    "df_results['If mapped to y30_ideal (or y4_train)'] = [30] * len(df_results['x'])\n",
    "df_results['y4 train_ideal max dev times sqrt(2)'] = df_dev['y4 train_ideal max dev times sqrt(2)']\n",
    "df_results['diff. between train-ideal & test-calReg. devs. for y4 (train)'] = df_dev['diff. between AE and train_ideal devs_4']\n",
    "\n",
    "df_results.head()"
   ]
  },
  {
   "cell_type": "code",
   "execution_count": 48,
   "id": "3ad3103b",
   "metadata": {
    "scrolled": true
   },
   "outputs": [
    {
     "data": {
      "text/html": [
       "<div>\n",
       "<style scoped>\n",
       "    .dataframe tbody tr th:only-of-type {\n",
       "        vertical-align: middle;\n",
       "    }\n",
       "\n",
       "    .dataframe tbody tr th {\n",
       "        vertical-align: top;\n",
       "    }\n",
       "\n",
       "    .dataframe thead th {\n",
       "        text-align: right;\n",
       "    }\n",
       "</style>\n",
       "<table border=\"1\" class=\"dataframe\">\n",
       "  <thead>\n",
       "    <tr style=\"text-align: right;\">\n",
       "      <th></th>\n",
       "      <th>x</th>\n",
       "      <th>y_test</th>\n",
       "      <th>If mapped to y33_ideal (or y1_train)</th>\n",
       "      <th>If not, print False</th>\n",
       "      <th>y1 train_ideal max dev times sqrt(2)</th>\n",
       "      <th>diff. between train-ideal &amp; test-calReg. devs. for y1 (train)</th>\n",
       "      <th>If mapped to y5_ideal (or y2_train)</th>\n",
       "      <th>y2 train_ideal max dev times sqrt(2)</th>\n",
       "      <th>diff. between train-ideal &amp; test-calReg. devs. for y2 (train)</th>\n",
       "      <th>If mapped to y1_ideal (or y3_train)</th>\n",
       "      <th>y3 train_ideal max dev times sqrt(2)</th>\n",
       "      <th>diff. between train-ideal &amp; test-calReg. devs. for y3 (train)</th>\n",
       "      <th>If mapped to y30_ideal (or y4_train)</th>\n",
       "      <th>y4 train_ideal max dev times sqrt(2)</th>\n",
       "      <th>diff. between train-ideal &amp; test-calReg. devs. for y4 (train)</th>\n",
       "      <th>Can it be mapped to y33_ideal (y1_train)?</th>\n",
       "      <th>Can it be mapped to y5_ideal (y2_train)?</th>\n",
       "      <th>Can it be mapped to y1_ideal (y3_train)?</th>\n",
       "      <th>Can it be mapped to y30_ideal (y4_train)?</th>\n",
       "    </tr>\n",
       "  </thead>\n",
       "  <tbody>\n",
       "    <tr>\n",
       "      <th>0</th>\n",
       "      <td>19.0</td>\n",
       "      <td>17.754017</td>\n",
       "      <td>33</td>\n",
       "      <td>0</td>\n",
       "      <td>0.696208</td>\n",
       "      <td>0.677842</td>\n",
       "      <td>5</td>\n",
       "      <td>0.706533</td>\n",
       "      <td>28.355941</td>\n",
       "      <td>1</td>\n",
       "      <td>0.700924</td>\n",
       "      <td>15.973569</td>\n",
       "      <td>30</td>\n",
       "      <td>0.7064</td>\n",
       "      <td>701.992668</td>\n",
       "      <td>33</td>\n",
       "      <td>0</td>\n",
       "      <td>0</td>\n",
       "      <td>0</td>\n",
       "    </tr>\n",
       "    <tr>\n",
       "      <th>1</th>\n",
       "      <td>-0.7</td>\n",
       "      <td>-3444.012500</td>\n",
       "      <td>33</td>\n",
       "      <td>0</td>\n",
       "      <td>0.696208</td>\n",
       "      <td>3445.189552</td>\n",
       "      <td>5</td>\n",
       "      <td>0.706533</td>\n",
       "      <td>3434.587136</td>\n",
       "      <td>1</td>\n",
       "      <td>0.700924</td>\n",
       "      <td>3442.535468</td>\n",
       "      <td>30</td>\n",
       "      <td>0.7064</td>\n",
       "      <td>3441.831973</td>\n",
       "      <td>0</td>\n",
       "      <td>0</td>\n",
       "      <td>0</td>\n",
       "      <td>0</td>\n",
       "    </tr>\n",
       "    <tr>\n",
       "      <th>2</th>\n",
       "      <td>-5.6</td>\n",
       "      <td>-232.979830</td>\n",
       "      <td>33</td>\n",
       "      <td>0</td>\n",
       "      <td>0.696208</td>\n",
       "      <td>238.777022</td>\n",
       "      <td>5</td>\n",
       "      <td>0.706533</td>\n",
       "      <td>222.096991</td>\n",
       "      <td>1</td>\n",
       "      <td>0.700924</td>\n",
       "      <td>233.131864</td>\n",
       "      <td>30</td>\n",
       "      <td>0.7064</td>\n",
       "      <td>163.683401</td>\n",
       "      <td>0</td>\n",
       "      <td>0</td>\n",
       "      <td>0</td>\n",
       "      <td>0</td>\n",
       "    </tr>\n",
       "    <tr>\n",
       "      <th>3</th>\n",
       "      <td>6.1</td>\n",
       "      <td>5950.886000</td>\n",
       "      <td>33</td>\n",
       "      <td>0</td>\n",
       "      <td>0.696208</td>\n",
       "      <td>5943.632778</td>\n",
       "      <td>5</td>\n",
       "      <td>0.706533</td>\n",
       "      <td>5960.334796</td>\n",
       "      <td>1</td>\n",
       "      <td>0.700924</td>\n",
       "      <td>5950.184865</td>\n",
       "      <td>30</td>\n",
       "      <td>0.7064</td>\n",
       "      <td>6018.108032</td>\n",
       "      <td>0</td>\n",
       "      <td>0</td>\n",
       "      <td>0</td>\n",
       "      <td>0</td>\n",
       "    </tr>\n",
       "    <tr>\n",
       "      <th>4</th>\n",
       "      <td>0.2</td>\n",
       "      <td>5.371201</td>\n",
       "      <td>33</td>\n",
       "      <td>0</td>\n",
       "      <td>0.696208</td>\n",
       "      <td>3.681004</td>\n",
       "      <td>5</td>\n",
       "      <td>0.706533</td>\n",
       "      <td>14.966519</td>\n",
       "      <td>1</td>\n",
       "      <td>0.700924</td>\n",
       "      <td>4.517450</td>\n",
       "      <td>30</td>\n",
       "      <td>0.7064</td>\n",
       "      <td>4.751689</td>\n",
       "      <td>0</td>\n",
       "      <td>0</td>\n",
       "      <td>0</td>\n",
       "      <td>0</td>\n",
       "    </tr>\n",
       "  </tbody>\n",
       "</table>\n",
       "</div>"
      ],
      "text/plain": [
       "      x       y_test  If mapped to y33_ideal (or y1_train)  \\\n",
       "0  19.0    17.754017                                    33   \n",
       "1  -0.7 -3444.012500                                    33   \n",
       "2  -5.6  -232.979830                                    33   \n",
       "3   6.1  5950.886000                                    33   \n",
       "4   0.2     5.371201                                    33   \n",
       "\n",
       "   If not, print False  y1 train_ideal max dev times sqrt(2)  \\\n",
       "0                    0                              0.696208   \n",
       "1                    0                              0.696208   \n",
       "2                    0                              0.696208   \n",
       "3                    0                              0.696208   \n",
       "4                    0                              0.696208   \n",
       "\n",
       "   diff. between train-ideal & test-calReg. devs. for y1 (train)  \\\n",
       "0                                           0.677842               \n",
       "1                                        3445.189552               \n",
       "2                                         238.777022               \n",
       "3                                        5943.632778               \n",
       "4                                           3.681004               \n",
       "\n",
       "   If mapped to y5_ideal (or y2_train)  y2 train_ideal max dev times sqrt(2)  \\\n",
       "0                                    5                              0.706533   \n",
       "1                                    5                              0.706533   \n",
       "2                                    5                              0.706533   \n",
       "3                                    5                              0.706533   \n",
       "4                                    5                              0.706533   \n",
       "\n",
       "   diff. between train-ideal & test-calReg. devs. for y2 (train)  \\\n",
       "0                                          28.355941               \n",
       "1                                        3434.587136               \n",
       "2                                         222.096991               \n",
       "3                                        5960.334796               \n",
       "4                                          14.966519               \n",
       "\n",
       "   If mapped to y1_ideal (or y3_train)  y3 train_ideal max dev times sqrt(2)  \\\n",
       "0                                    1                              0.700924   \n",
       "1                                    1                              0.700924   \n",
       "2                                    1                              0.700924   \n",
       "3                                    1                              0.700924   \n",
       "4                                    1                              0.700924   \n",
       "\n",
       "   diff. between train-ideal & test-calReg. devs. for y3 (train)  \\\n",
       "0                                          15.973569               \n",
       "1                                        3442.535468               \n",
       "2                                         233.131864               \n",
       "3                                        5950.184865               \n",
       "4                                           4.517450               \n",
       "\n",
       "   If mapped to y30_ideal (or y4_train)  y4 train_ideal max dev times sqrt(2)  \\\n",
       "0                                    30                                0.7064   \n",
       "1                                    30                                0.7064   \n",
       "2                                    30                                0.7064   \n",
       "3                                    30                                0.7064   \n",
       "4                                    30                                0.7064   \n",
       "\n",
       "   diff. between train-ideal & test-calReg. devs. for y4 (train)  \\\n",
       "0                                         701.992668               \n",
       "1                                        3441.831973               \n",
       "2                                         163.683401               \n",
       "3                                        6018.108032               \n",
       "4                                           4.751689               \n",
       "\n",
       "   Can it be mapped to y33_ideal (y1_train)?  \\\n",
       "0                                         33   \n",
       "1                                          0   \n",
       "2                                          0   \n",
       "3                                          0   \n",
       "4                                          0   \n",
       "\n",
       "   Can it be mapped to y5_ideal (y2_train)?  \\\n",
       "0                                         0   \n",
       "1                                         0   \n",
       "2                                         0   \n",
       "3                                         0   \n",
       "4                                         0   \n",
       "\n",
       "   Can it be mapped to y1_ideal (y3_train)?  \\\n",
       "0                                         0   \n",
       "1                                         0   \n",
       "2                                         0   \n",
       "3                                         0   \n",
       "4                                         0   \n",
       "\n",
       "   Can it be mapped to y30_ideal (y4_train)?  \n",
       "0                                          0  \n",
       "1                                          0  \n",
       "2                                          0  \n",
       "3                                          0  \n",
       "4                                          0  "
      ]
     },
     "execution_count": 48,
     "metadata": {},
     "output_type": "execute_result"
    }
   ],
   "source": [
    "# USE THE WHERE METHOD TO ASSIGN THE CORRESPONDING IDEAL FUNCTION TO THOSE DATASETS THAT MEET THE CRITERIA IN THE PROBLEM STATEMENT\n",
    "# Create a new column in the in the dataset of each of the four functions\n",
    "# Where method to determine whether or not \"existing maximum deviation of the calculated regression does not exceed the largest deviation between training dataset (A) and the ideal function (C) chosen for it by more than factor sqrt(2)\"\n",
    "# The values were stored in the new column\n",
    "\n",
    "df_results['Can it be mapped to y33_ideal (y1_train)?'] = np.where((df_results['diff. between train-ideal & test-calReg. devs. for y1 (train)'] <= df_results['y1 train_ideal max dev times sqrt(2)']),\n",
    "                                    df_results['If mapped to y33_ideal (or y1_train)'], df_results['If not, print False'])\n",
    "\n",
    "df_results['Can it be mapped to y5_ideal (y2_train)?'] = np.where((df_results['diff. between train-ideal & test-calReg. devs. for y2 (train)'] <= df_results['y2 train_ideal max dev times sqrt(2)']),\n",
    "                                    df_results['If mapped to y5_ideal (or y2_train)'], df_results['If not, print False'])\n",
    "\n",
    "df_results['Can it be mapped to y1_ideal (y3_train)?'] = np.where((df_results['diff. between train-ideal & test-calReg. devs. for y3 (train)'] <= df_results['y3 train_ideal max dev times sqrt(2)']),\n",
    "                                    df_results['If mapped to y1_ideal (or y3_train)'], df_results['If not, print False'])\n",
    "\n",
    "df_results['Can it be mapped to y30_ideal (y4_train)?'] = np.where((df_results['diff. between train-ideal & test-calReg. devs. for y4 (train)'] <= df_results['y4 train_ideal max dev times sqrt(2)']),\n",
    "                                    df_results['If mapped to y30_ideal (or y4_train)'], df_results['If not, print False'])\n",
    "df_results.head()"
   ]
  },
  {
   "cell_type": "code",
   "execution_count": 49,
   "id": "5dbf7ca2",
   "metadata": {
    "scrolled": true
   },
   "outputs": [
    {
     "data": {
      "text/html": [
       "<div>\n",
       "<style scoped>\n",
       "    .dataframe tbody tr th:only-of-type {\n",
       "        vertical-align: middle;\n",
       "    }\n",
       "\n",
       "    .dataframe tbody tr th {\n",
       "        vertical-align: top;\n",
       "    }\n",
       "\n",
       "    .dataframe thead th {\n",
       "        text-align: right;\n",
       "    }\n",
       "</style>\n",
       "<table border=\"1\" class=\"dataframe\">\n",
       "  <thead>\n",
       "    <tr style=\"text-align: right;\">\n",
       "      <th></th>\n",
       "      <th>mapping results (train y3)</th>\n",
       "      <th>mapping results (train y2)</th>\n",
       "      <th>mapping results (train y4)</th>\n",
       "      <th>mapping results (train y1)</th>\n",
       "      <th>Mapped to ideal function number</th>\n",
       "    </tr>\n",
       "  </thead>\n",
       "  <tbody>\n",
       "    <tr>\n",
       "      <th>0</th>\n",
       "      <td>0</td>\n",
       "      <td>0</td>\n",
       "      <td>0</td>\n",
       "      <td>33</td>\n",
       "      <td>33</td>\n",
       "    </tr>\n",
       "    <tr>\n",
       "      <th>1</th>\n",
       "      <td>0</td>\n",
       "      <td>0</td>\n",
       "      <td>0</td>\n",
       "      <td>0</td>\n",
       "      <td>0</td>\n",
       "    </tr>\n",
       "    <tr>\n",
       "      <th>2</th>\n",
       "      <td>0</td>\n",
       "      <td>0</td>\n",
       "      <td>0</td>\n",
       "      <td>0</td>\n",
       "      <td>0</td>\n",
       "    </tr>\n",
       "    <tr>\n",
       "      <th>3</th>\n",
       "      <td>0</td>\n",
       "      <td>0</td>\n",
       "      <td>0</td>\n",
       "      <td>0</td>\n",
       "      <td>0</td>\n",
       "    </tr>\n",
       "    <tr>\n",
       "      <th>4</th>\n",
       "      <td>0</td>\n",
       "      <td>0</td>\n",
       "      <td>0</td>\n",
       "      <td>0</td>\n",
       "      <td>0</td>\n",
       "    </tr>\n",
       "  </tbody>\n",
       "</table>\n",
       "</div>"
      ],
      "text/plain": [
       "   mapping results (train y3)  mapping results (train y2)  \\\n",
       "0                           0                           0   \n",
       "1                           0                           0   \n",
       "2                           0                           0   \n",
       "3                           0                           0   \n",
       "4                           0                           0   \n",
       "\n",
       "   mapping results (train y4)  mapping results (train y1)  \\\n",
       "0                           0                          33   \n",
       "1                           0                           0   \n",
       "2                           0                           0   \n",
       "3                           0                           0   \n",
       "4                           0                           0   \n",
       "\n",
       "   Mapped to ideal function number  \n",
       "0                               33  \n",
       "1                                0  \n",
       "2                                0  \n",
       "3                                0  \n",
       "4                                0  "
      ]
     },
     "execution_count": 49,
     "metadata": {},
     "output_type": "execute_result"
    }
   ],
   "source": [
    "# Create a dataframe that will contain only the results we need to determine the ideal function of each train data point/row\n",
    "df_analysis = pd.DataFrame()\n",
    "df_analysis['mapping results (train y3)'] = df_results['Can it be mapped to y1_ideal (y3_train)?']\n",
    "df_analysis['mapping results (train y2)'] = df_results['Can it be mapped to y5_ideal (y2_train)?']\n",
    "df_analysis['mapping results (train y4)'] = df_results['Can it be mapped to y30_ideal (y4_train)?']\n",
    "df_analysis['mapping results (train y1)'] = df_results['Can it be mapped to y33_ideal (y1_train)?']\n",
    "\n",
    "# Extract the maximum value from each row and store in a new column\n",
    "df_analysis['Mapped to ideal function number'] = df_analysis.max(axis=1)\n",
    "#df_analysis['Which ideal function out of [y1, y5, y30, y33] can this pair be mapped to?'] = df_analysis.apply(list, axis=1)\n",
    "#df_results['mapped to ideal function'] = df_001.apply(list, axis=1)\n",
    "df_analysis.head()"
   ]
  },
  {
   "cell_type": "code",
   "execution_count": null,
   "id": "82fb641e",
   "metadata": {},
   "outputs": [],
   "source": []
  },
  {
   "cell_type": "code",
   "execution_count": 50,
   "id": "b9f469f2",
   "metadata": {
    "scrolled": true
   },
   "outputs": [
    {
     "data": {
      "text/html": [
       "<div>\n",
       "<style scoped>\n",
       "    .dataframe tbody tr th:only-of-type {\n",
       "        vertical-align: middle;\n",
       "    }\n",
       "\n",
       "    .dataframe tbody tr th {\n",
       "        vertical-align: top;\n",
       "    }\n",
       "\n",
       "    .dataframe thead th {\n",
       "        text-align: right;\n",
       "    }\n",
       "</style>\n",
       "<table border=\"1\" class=\"dataframe\">\n",
       "  <thead>\n",
       "    <tr style=\"text-align: right;\">\n",
       "      <th></th>\n",
       "      <th>X_test</th>\n",
       "      <th>Y_test</th>\n",
       "      <th>Delta_Y_test</th>\n",
       "      <th>No_of_ideal_function</th>\n",
       "    </tr>\n",
       "  </thead>\n",
       "  <tbody>\n",
       "    <tr>\n",
       "      <th>0</th>\n",
       "      <td>19.0</td>\n",
       "      <td>17.754017</td>\n",
       "      <td>1.170135</td>\n",
       "      <td>33</td>\n",
       "    </tr>\n",
       "    <tr>\n",
       "      <th>1</th>\n",
       "      <td>-0.7</td>\n",
       "      <td>-3444.012500</td>\n",
       "      <td>-3444.012500</td>\n",
       "      <td>0</td>\n",
       "    </tr>\n",
       "    <tr>\n",
       "      <th>2</th>\n",
       "      <td>-5.6</td>\n",
       "      <td>-232.979830</td>\n",
       "      <td>-232.979830</td>\n",
       "      <td>0</td>\n",
       "    </tr>\n",
       "    <tr>\n",
       "      <th>3</th>\n",
       "      <td>6.1</td>\n",
       "      <td>5950.886000</td>\n",
       "      <td>6.100000</td>\n",
       "      <td>0</td>\n",
       "    </tr>\n",
       "    <tr>\n",
       "      <th>4</th>\n",
       "      <td>0.2</td>\n",
       "      <td>5.371201</td>\n",
       "      <td>0.200000</td>\n",
       "      <td>0</td>\n",
       "    </tr>\n",
       "  </tbody>\n",
       "</table>\n",
       "</div>"
      ],
      "text/plain": [
       "   X_test       Y_test  Delta_Y_test  No_of_ideal_function\n",
       "0    19.0    17.754017      1.170135                    33\n",
       "1    -0.7 -3444.012500  -3444.012500                     0\n",
       "2    -5.6  -232.979830   -232.979830                     0\n",
       "3     6.1  5950.886000      6.100000                     0\n",
       "4     0.2     5.371201      0.200000                     0"
      ]
     },
     "execution_count": 50,
     "metadata": {},
     "output_type": "execute_result"
    }
   ],
   "source": [
    "# Create a data frame. Store the calculated regression of each value for each regression.\n",
    "df_final_results = pd.DataFrame()\n",
    "\n",
    "# Add x_test and y_test columns\n",
    "df_final_results['X_test'] = df_dev['x']\n",
    "df_final_results['Y_test'] = df_dev['y_test']\n",
    "\n",
    "# Calculate the delta between test and calRegression of each row for each equation\n",
    "df_final_results['calculated regression 1 (y33)'] = df_dev['calculated regression 1']\n",
    "df_final_results['Delta_1 (y_test-calReg_1)'] = abs(df_final_results['Y_test'] - df_final_results['calculated regression 1 (y33)'])\n",
    "\n",
    "df_final_results['calculated regression 2 (y5)'] = df_dev['calculated regression 2']\n",
    "df_final_results['Delta_2 (y_test-calReg_2)'] = abs(df_final_results['Y_test'] - df_final_results['calculated regression 2 (y5)'])\n",
    "\n",
    "df_final_results['calculated regression 3 (y1)'] = df_dev['calculated regression 3']\n",
    "df_final_results['Delta_3 (y_test-calReg_3)'] = abs(df_final_results['Y_test'] - df_final_results['calculated regression 3 (y1)'])\n",
    "\n",
    "df_final_results['calculated regression 4 (y30)'] = df_dev['calculated regression 4']\n",
    "df_final_results['Delta_4 (y_test-calReg_4)'] = abs(df_final_results['Y_test'] - df_final_results['calculated regression 4 (y30)'])\n",
    "\n",
    "\n",
    "# Drop columns that are no longer needed and do not need to be displayed\n",
    "df_final_results.drop(columns=[\"calculated regression 1 (y33)\", \n",
    "                        \"calculated regression 2 (y5)\", \n",
    "                        \"calculated regression 3 (y1)\", \n",
    "                        \"calculated regression 4 (y30)\"], \n",
    "               inplace=True)\n",
    "\n",
    "# Extract the minimum value from each row and store in a new column. This is the delta y (test func.) column\n",
    "df_final_results['Delta_Y_test'] = df_final_results.min(axis=1)\n",
    "\n",
    "\n",
    "# Add a column that displays the number of ideal functions\n",
    "df_final_results['No_of_ideal_function'] = df_analysis['Mapped to ideal function number']\n",
    "\n",
    "\n",
    "# Drop columns that are no longer needed and do not need to be displayed\n",
    "df_final_results.drop(columns=[\"Delta_1 (y_test-calReg_1)\", \n",
    "                        \"Delta_2 (y_test-calReg_2)\", \n",
    "                        \"Delta_3 (y_test-calReg_3)\",\n",
    "                        \"Delta_4 (y_test-calReg_4)\"], \n",
    "               inplace=True)\n",
    "\n",
    "df_final_results.head()"
   ]
  },
  {
   "cell_type": "code",
   "execution_count": 52,
   "id": "c746c81d",
   "metadata": {},
   "outputs": [
    {
     "data": {
      "text/plain": [
       "100"
      ]
     },
     "execution_count": 52,
     "metadata": {},
     "output_type": "execute_result"
    }
   ],
   "source": [
    "# SAVE THE RESULTS INTO THE SQLITE DATABASE\n",
    "\n",
    "# create a table in the dataframe to store the results\n",
    "c.execute('''CREATE TABLE results (X_test, Y_test, Delta_Y_test, No_of_ideal_function)''')\n",
    "\n",
    "# write the data into sqlite tables\n",
    "df_final_results.to_sql('results', conn, if_exists='append', index = False)"
   ]
  },
  {
   "cell_type": "code",
   "execution_count": null,
   "id": "f9291b61",
   "metadata": {},
   "outputs": [],
   "source": []
  },
  {
   "cell_type": "code",
   "execution_count": null,
   "id": "92a32bdf",
   "metadata": {},
   "outputs": [],
   "source": []
  },
  {
   "cell_type": "code",
   "execution_count": null,
   "id": "1bb08adf",
   "metadata": {},
   "outputs": [],
   "source": []
  }
 ],
 "metadata": {
  "kernelspec": {
   "display_name": "Python 3 (ipykernel)",
   "language": "python",
   "name": "python3"
  },
  "language_info": {
   "codemirror_mode": {
    "name": "ipython",
    "version": 3
   },
   "file_extension": ".py",
   "mimetype": "text/x-python",
   "name": "python",
   "nbconvert_exporter": "python",
   "pygments_lexer": "ipython3",
   "version": "3.9.12"
  }
 },
 "nbformat": 4,
 "nbformat_minor": 5
}
